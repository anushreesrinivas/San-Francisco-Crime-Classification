{
 "cells": [
  {
   "cell_type": "markdown",
   "metadata": {},
   "source": [
    "# San Francisco Crime Classification: Data Wrangling, Exploratory Data Analysis, Data Visualization and Inferential Statistics\n",
    "\n",
    "\n",
    "The overall goal of this iPython notebook is for the capstone project - SF Crime Classification. Data Cleaning has been done to get the data in a format needed for further analysis. Data manipulation, and data exploration has been implemented to uncover interesting insights from the data. Data tranformation, and merging different datasets for analysis have been carried out as well. Inferential statistics have also been performed. Finally, Data visualizations have been used to tell a story with the data and get a better understanding of the crime activities."
   ]
  },
  {
   "cell_type": "code",
   "execution_count": 1,
   "metadata": {
    "collapsed": true
   },
   "outputs": [],
   "source": [
    "import pandas as pd\n",
    "import numpy as np\n",
    "import matplotlib.pyplot as plt\n",
    "%matplotlib inline\n",
    "import seaborn as sns"
   ]
  },
  {
   "cell_type": "code",
   "execution_count": 2,
   "metadata": {
    "collapsed": true
   },
   "outputs": [],
   "source": [
    "train = pd.read_csv('/Users/Anushree/Desktop/Springboard/Capstone 2/data_sf/train.csv')\n",
    "test = pd.read_csv('/Users/Anushree/Desktop/Springboard/Capstone 2/data_sf/test.csv')"
   ]
  },
  {
   "cell_type": "code",
   "execution_count": 3,
   "metadata": {
    "collapsed": false
   },
   "outputs": [
    {
     "data": {
      "text/html": [
       "<div>\n",
       "<table border=\"1\" class=\"dataframe\">\n",
       "  <thead>\n",
       "    <tr style=\"text-align: right;\">\n",
       "      <th></th>\n",
       "      <th>Dates</th>\n",
       "      <th>Category</th>\n",
       "      <th>Descript</th>\n",
       "      <th>DayOfWeek</th>\n",
       "      <th>PdDistrict</th>\n",
       "      <th>Resolution</th>\n",
       "      <th>Address</th>\n",
       "      <th>X</th>\n",
       "      <th>Y</th>\n",
       "    </tr>\n",
       "  </thead>\n",
       "  <tbody>\n",
       "    <tr>\n",
       "      <th>0</th>\n",
       "      <td>2015-05-13 23:53:00</td>\n",
       "      <td>WARRANTS</td>\n",
       "      <td>WARRANT ARREST</td>\n",
       "      <td>Wednesday</td>\n",
       "      <td>NORTHERN</td>\n",
       "      <td>ARREST, BOOKED</td>\n",
       "      <td>OAK ST / LAGUNA ST</td>\n",
       "      <td>-122.425892</td>\n",
       "      <td>37.774599</td>\n",
       "    </tr>\n",
       "    <tr>\n",
       "      <th>1</th>\n",
       "      <td>2015-05-13 23:53:00</td>\n",
       "      <td>OTHER OFFENSES</td>\n",
       "      <td>TRAFFIC VIOLATION ARREST</td>\n",
       "      <td>Wednesday</td>\n",
       "      <td>NORTHERN</td>\n",
       "      <td>ARREST, BOOKED</td>\n",
       "      <td>OAK ST / LAGUNA ST</td>\n",
       "      <td>-122.425892</td>\n",
       "      <td>37.774599</td>\n",
       "    </tr>\n",
       "    <tr>\n",
       "      <th>2</th>\n",
       "      <td>2015-05-13 23:33:00</td>\n",
       "      <td>OTHER OFFENSES</td>\n",
       "      <td>TRAFFIC VIOLATION ARREST</td>\n",
       "      <td>Wednesday</td>\n",
       "      <td>NORTHERN</td>\n",
       "      <td>ARREST, BOOKED</td>\n",
       "      <td>VANNESS AV / GREENWICH ST</td>\n",
       "      <td>-122.424363</td>\n",
       "      <td>37.800414</td>\n",
       "    </tr>\n",
       "    <tr>\n",
       "      <th>3</th>\n",
       "      <td>2015-05-13 23:30:00</td>\n",
       "      <td>LARCENY/THEFT</td>\n",
       "      <td>GRAND THEFT FROM LOCKED AUTO</td>\n",
       "      <td>Wednesday</td>\n",
       "      <td>NORTHERN</td>\n",
       "      <td>NONE</td>\n",
       "      <td>1500 Block of LOMBARD ST</td>\n",
       "      <td>-122.426995</td>\n",
       "      <td>37.800873</td>\n",
       "    </tr>\n",
       "    <tr>\n",
       "      <th>4</th>\n",
       "      <td>2015-05-13 23:30:00</td>\n",
       "      <td>LARCENY/THEFT</td>\n",
       "      <td>GRAND THEFT FROM LOCKED AUTO</td>\n",
       "      <td>Wednesday</td>\n",
       "      <td>PARK</td>\n",
       "      <td>NONE</td>\n",
       "      <td>100 Block of BRODERICK ST</td>\n",
       "      <td>-122.438738</td>\n",
       "      <td>37.771541</td>\n",
       "    </tr>\n",
       "  </tbody>\n",
       "</table>\n",
       "</div>"
      ],
      "text/plain": [
       "                 Dates        Category                      Descript  \\\n",
       "0  2015-05-13 23:53:00        WARRANTS                WARRANT ARREST   \n",
       "1  2015-05-13 23:53:00  OTHER OFFENSES      TRAFFIC VIOLATION ARREST   \n",
       "2  2015-05-13 23:33:00  OTHER OFFENSES      TRAFFIC VIOLATION ARREST   \n",
       "3  2015-05-13 23:30:00   LARCENY/THEFT  GRAND THEFT FROM LOCKED AUTO   \n",
       "4  2015-05-13 23:30:00   LARCENY/THEFT  GRAND THEFT FROM LOCKED AUTO   \n",
       "\n",
       "   DayOfWeek PdDistrict      Resolution                    Address  \\\n",
       "0  Wednesday   NORTHERN  ARREST, BOOKED         OAK ST / LAGUNA ST   \n",
       "1  Wednesday   NORTHERN  ARREST, BOOKED         OAK ST / LAGUNA ST   \n",
       "2  Wednesday   NORTHERN  ARREST, BOOKED  VANNESS AV / GREENWICH ST   \n",
       "3  Wednesday   NORTHERN            NONE   1500 Block of LOMBARD ST   \n",
       "4  Wednesday       PARK            NONE  100 Block of BRODERICK ST   \n",
       "\n",
       "            X          Y  \n",
       "0 -122.425892  37.774599  \n",
       "1 -122.425892  37.774599  \n",
       "2 -122.424363  37.800414  \n",
       "3 -122.426995  37.800873  \n",
       "4 -122.438738  37.771541  "
      ]
     },
     "execution_count": 3,
     "metadata": {},
     "output_type": "execute_result"
    }
   ],
   "source": [
    "train.head()"
   ]
  },
  {
   "cell_type": "code",
   "execution_count": 4,
   "metadata": {
    "collapsed": false
   },
   "outputs": [
    {
     "data": {
      "text/html": [
       "<div>\n",
       "<table border=\"1\" class=\"dataframe\">\n",
       "  <thead>\n",
       "    <tr style=\"text-align: right;\">\n",
       "      <th></th>\n",
       "      <th>Id</th>\n",
       "      <th>Dates</th>\n",
       "      <th>DayOfWeek</th>\n",
       "      <th>PdDistrict</th>\n",
       "      <th>Address</th>\n",
       "      <th>X</th>\n",
       "      <th>Y</th>\n",
       "    </tr>\n",
       "  </thead>\n",
       "  <tbody>\n",
       "    <tr>\n",
       "      <th>0</th>\n",
       "      <td>0</td>\n",
       "      <td>2015-05-10 23:59:00</td>\n",
       "      <td>Sunday</td>\n",
       "      <td>BAYVIEW</td>\n",
       "      <td>2000 Block of THOMAS AV</td>\n",
       "      <td>-122.399588</td>\n",
       "      <td>37.735051</td>\n",
       "    </tr>\n",
       "    <tr>\n",
       "      <th>1</th>\n",
       "      <td>1</td>\n",
       "      <td>2015-05-10 23:51:00</td>\n",
       "      <td>Sunday</td>\n",
       "      <td>BAYVIEW</td>\n",
       "      <td>3RD ST / REVERE AV</td>\n",
       "      <td>-122.391523</td>\n",
       "      <td>37.732432</td>\n",
       "    </tr>\n",
       "    <tr>\n",
       "      <th>2</th>\n",
       "      <td>2</td>\n",
       "      <td>2015-05-10 23:50:00</td>\n",
       "      <td>Sunday</td>\n",
       "      <td>NORTHERN</td>\n",
       "      <td>2000 Block of GOUGH ST</td>\n",
       "      <td>-122.426002</td>\n",
       "      <td>37.792212</td>\n",
       "    </tr>\n",
       "    <tr>\n",
       "      <th>3</th>\n",
       "      <td>3</td>\n",
       "      <td>2015-05-10 23:45:00</td>\n",
       "      <td>Sunday</td>\n",
       "      <td>INGLESIDE</td>\n",
       "      <td>4700 Block of MISSION ST</td>\n",
       "      <td>-122.437394</td>\n",
       "      <td>37.721412</td>\n",
       "    </tr>\n",
       "    <tr>\n",
       "      <th>4</th>\n",
       "      <td>4</td>\n",
       "      <td>2015-05-10 23:45:00</td>\n",
       "      <td>Sunday</td>\n",
       "      <td>INGLESIDE</td>\n",
       "      <td>4700 Block of MISSION ST</td>\n",
       "      <td>-122.437394</td>\n",
       "      <td>37.721412</td>\n",
       "    </tr>\n",
       "  </tbody>\n",
       "</table>\n",
       "</div>"
      ],
      "text/plain": [
       "   Id                Dates DayOfWeek PdDistrict                   Address  \\\n",
       "0   0  2015-05-10 23:59:00    Sunday    BAYVIEW   2000 Block of THOMAS AV   \n",
       "1   1  2015-05-10 23:51:00    Sunday    BAYVIEW        3RD ST / REVERE AV   \n",
       "2   2  2015-05-10 23:50:00    Sunday   NORTHERN    2000 Block of GOUGH ST   \n",
       "3   3  2015-05-10 23:45:00    Sunday  INGLESIDE  4700 Block of MISSION ST   \n",
       "4   4  2015-05-10 23:45:00    Sunday  INGLESIDE  4700 Block of MISSION ST   \n",
       "\n",
       "            X          Y  \n",
       "0 -122.399588  37.735051  \n",
       "1 -122.391523  37.732432  \n",
       "2 -122.426002  37.792212  \n",
       "3 -122.437394  37.721412  \n",
       "4 -122.437394  37.721412  "
      ]
     },
     "execution_count": 4,
     "metadata": {},
     "output_type": "execute_result"
    }
   ],
   "source": [
    "test.head()"
   ]
  },
  {
   "cell_type": "code",
   "execution_count": 5,
   "metadata": {
    "collapsed": false
   },
   "outputs": [
    {
     "data": {
      "text/html": [
       "<div>\n",
       "<table border=\"1\" class=\"dataframe\">\n",
       "  <thead>\n",
       "    <tr style=\"text-align: right;\">\n",
       "      <th></th>\n",
       "      <th>X</th>\n",
       "      <th>Y</th>\n",
       "    </tr>\n",
       "  </thead>\n",
       "  <tbody>\n",
       "    <tr>\n",
       "      <th>count</th>\n",
       "      <td>878049.000000</td>\n",
       "      <td>878049.000000</td>\n",
       "    </tr>\n",
       "    <tr>\n",
       "      <th>mean</th>\n",
       "      <td>-122.422616</td>\n",
       "      <td>37.771020</td>\n",
       "    </tr>\n",
       "    <tr>\n",
       "      <th>std</th>\n",
       "      <td>0.030354</td>\n",
       "      <td>0.456893</td>\n",
       "    </tr>\n",
       "    <tr>\n",
       "      <th>min</th>\n",
       "      <td>-122.513642</td>\n",
       "      <td>37.707879</td>\n",
       "    </tr>\n",
       "    <tr>\n",
       "      <th>25%</th>\n",
       "      <td>-122.432952</td>\n",
       "      <td>37.752427</td>\n",
       "    </tr>\n",
       "    <tr>\n",
       "      <th>50%</th>\n",
       "      <td>-122.416420</td>\n",
       "      <td>37.775421</td>\n",
       "    </tr>\n",
       "    <tr>\n",
       "      <th>75%</th>\n",
       "      <td>-122.406959</td>\n",
       "      <td>37.784369</td>\n",
       "    </tr>\n",
       "    <tr>\n",
       "      <th>max</th>\n",
       "      <td>-120.500000</td>\n",
       "      <td>90.000000</td>\n",
       "    </tr>\n",
       "  </tbody>\n",
       "</table>\n",
       "</div>"
      ],
      "text/plain": [
       "                   X              Y\n",
       "count  878049.000000  878049.000000\n",
       "mean     -122.422616      37.771020\n",
       "std         0.030354       0.456893\n",
       "min      -122.513642      37.707879\n",
       "25%      -122.432952      37.752427\n",
       "50%      -122.416420      37.775421\n",
       "75%      -122.406959      37.784369\n",
       "max      -120.500000      90.000000"
      ]
     },
     "execution_count": 5,
     "metadata": {},
     "output_type": "execute_result"
    }
   ],
   "source": [
    "train.describe()"
   ]
  },
  {
   "cell_type": "markdown",
   "metadata": {},
   "source": [
    "# Data Cleaning"
   ]
  },
  {
   "cell_type": "code",
   "execution_count": 6,
   "metadata": {
    "collapsed": false
   },
   "outputs": [
    {
     "data": {
      "text/plain": [
       "Dates         0\n",
       "Category      0\n",
       "Descript      0\n",
       "DayOfWeek     0\n",
       "PdDistrict    0\n",
       "Resolution    0\n",
       "Address       0\n",
       "X             0\n",
       "Y             0\n",
       "dtype: int64"
      ]
     },
     "execution_count": 6,
     "metadata": {},
     "output_type": "execute_result"
    }
   ],
   "source": [
    "# check for missing values\n",
    "total=train.isnull().sum()\n",
    "total"
   ]
  },
  {
   "cell_type": "markdown",
   "metadata": {},
   "source": [
    "There are no missing values in the train data set so there is no data cleaning required to be done."
   ]
  },
  {
   "cell_type": "code",
   "execution_count": 7,
   "metadata": {
    "collapsed": false
   },
   "outputs": [
    {
     "data": {
      "text/plain": [
       "Dates         0.0\n",
       "Category      0.0\n",
       "Descript      0.0\n",
       "DayOfWeek     0.0\n",
       "PdDistrict    0.0\n",
       "Resolution    0.0\n",
       "Address       0.0\n",
       "X             0.0\n",
       "Y             0.0\n",
       "dtype: float64"
      ]
     },
     "execution_count": 7,
     "metadata": {},
     "output_type": "execute_result"
    }
   ],
   "source": [
    "percentage=total/train.isnull().count()\n",
    "percentage"
   ]
  },
  {
   "cell_type": "markdown",
   "metadata": {},
   "source": [
    "## Exploratory Data Analysis & Data Visualization"
   ]
  },
  {
   "cell_type": "code",
   "execution_count": 8,
   "metadata": {
    "collapsed": false
   },
   "outputs": [
    {
     "data": {
      "text/plain": [
       "Friday       133734\n",
       "Wednesday    129211\n",
       "Saturday     126810\n",
       "Thursday     125038\n",
       "Tuesday      124965\n",
       "Monday       121584\n",
       "Sunday       116707\n",
       "Name: DayOfWeek, dtype: int64"
      ]
     },
     "execution_count": 8,
     "metadata": {},
     "output_type": "execute_result"
    }
   ],
   "source": [
    "count_dayofweek=train['DayOfWeek'].value_counts()\n",
    "count_dayofweek"
   ]
  },
  {
   "cell_type": "code",
   "execution_count": 9,
   "metadata": {
    "collapsed": false
   },
   "outputs": [
    {
     "data": {
      "image/png": "[encoded data removed]",
      "text/plain": [
       "<matplotlib.figure.Figure at 0x11cbdbcc0>"
      ]
     },
     "metadata": {},
     "output_type": "display_data"
    }
   ],
   "source": [
    "plt.figure(figsize=(12,8))\n",
    "ax = sns.countplot(x=\"DayOfWeek\", data=train,palette='GnBu_d')"
   ]
  },
  {
   "cell_type": "markdown",
   "metadata": {},
   "source": [
    "From this graph we can see that the crime rate is maximum on Friday followed by Wednesday and least on Sunday. This can be due to the fact that people don't travel much on Sunday's whereas the city is pretty crowded on Fridays."
   ]
  },
  {
   "cell_type": "code",
   "execution_count": 10,
   "metadata": {
    "collapsed": true
   },
   "outputs": [],
   "source": [
    "import datetime as dt"
   ]
  },
  {
   "cell_type": "code",
   "execution_count": 11,
   "metadata": {
    "collapsed": false
   },
   "outputs": [
    {
     "data": {
      "text/plain": [
       "0   2015-05-13 23:53:00\n",
       "1   2015-05-13 23:53:00\n",
       "2   2015-05-13 23:33:00\n",
       "3   2015-05-13 23:30:00\n",
       "4   2015-05-13 23:30:00\n",
       "Name: Dates, dtype: datetime64[ns]"
      ]
     },
     "execution_count": 11,
     "metadata": {},
     "output_type": "execute_result"
    }
   ],
   "source": [
    "d = pd.to_datetime(train['Dates'])\n",
    "d.head()"
   ]
  },
  {
   "cell_type": "code",
   "execution_count": 12,
   "metadata": {
    "collapsed": true
   },
   "outputs": [],
   "source": [
    "train['month'] = d.dt.month"
   ]
  },
  {
   "cell_type": "code",
   "execution_count": 13,
   "metadata": {
    "collapsed": true
   },
   "outputs": [],
   "source": [
    "train['hour'] = d.dt.hour"
   ]
  },
  {
   "cell_type": "code",
   "execution_count": 14,
   "metadata": {
    "collapsed": true
   },
   "outputs": [],
   "source": [
    "train['year'] = d.dt.year"
   ]
  },
  {
   "cell_type": "code",
   "execution_count": 15,
   "metadata": {
    "collapsed": false
   },
   "outputs": [
    {
     "data": {
      "image/png": "[encoded data removed]",
      "text/plain": [
       "<matplotlib.figure.Figure at 0x10da66390>"
      ]
     },
     "metadata": {},
     "output_type": "display_data"
    }
   ],
   "source": [
    "plt.figure(figsize=(12,8))\n",
    "ax = sns.countplot(x=\"month\", data=train,palette='GnBu_d')"
   ]
  },
  {
   "cell_type": "markdown",
   "metadata": {},
   "source": [
    "Looking at the month countplot we can see that, the highest number of crimes are for the months of October and May, closely followed by April. From this analysis we can see that the number of crimes are more in summer months and relatively lesser in the winter months(December, January, February)."
   ]
  },
  {
   "cell_type": "code",
   "execution_count": 16,
   "metadata": {
    "collapsed": false
   },
   "outputs": [
    {
     "data": {
      "image/png": "[encoded data removed]",
      "text/plain": [
       "<matplotlib.figure.Figure at 0x10dbc3940>"
      ]
     },
     "metadata": {},
     "output_type": "display_data"
    }
   ],
   "source": [
    "plt.figure(figsize=(12,8))\n",
    "ax = sns.countplot(x=\"hour\", data=train,palette='GnBu_d')"
   ]
  },
  {
   "cell_type": "markdown",
   "metadata": {},
   "source": [
    "The number of crimes recorded are mostly around 12pm and then at 6pm(in the 5-7pm window)."
   ]
  },
  {
   "cell_type": "code",
   "execution_count": 17,
   "metadata": {
    "collapsed": false
   },
   "outputs": [
    {
     "data": {
      "image/png": "[encoded data removed]",
      "text/plain": [
       "<matplotlib.figure.Figure at 0x110bf9f98>"
      ]
     },
     "metadata": {},
     "output_type": "display_data"
    }
   ],
   "source": [
    "plt.figure(figsize=(12,8))\n",
    "ax = sns.countplot(x=\"year\", data=train,palette=\"PuBuGn_d\")"
   ]
  },
  {
   "cell_type": "markdown",
   "metadata": {},
   "source": [
    "The lowest number of crimes is in 2015 which is because we have data only until May 2015. The number of crimes reached an all time high in the span of 12 years in 2013. The number of crimes was high at 2003 after which it was decreasing until 2008 where we can see a spike again after which it decreased until 2012-2013. We can see that every 5 years there's a spike in crime rates."
   ]
  },
  {
   "cell_type": "code",
   "execution_count": 18,
   "metadata": {
    "collapsed": false
   },
   "outputs": [
    {
     "data": {
      "text/plain": [
       "SOUTHERN      157182\n",
       "MISSION       119908\n",
       "NORTHERN      105296\n",
       "BAYVIEW        89431\n",
       "CENTRAL        85460\n",
       "TENDERLOIN     81809\n",
       "INGLESIDE      78845\n",
       "TARAVAL        65596\n",
       "PARK           49313\n",
       "RICHMOND       45209\n",
       "Name: PdDistrict, dtype: int64"
      ]
     },
     "execution_count": 18,
     "metadata": {},
     "output_type": "execute_result"
    }
   ],
   "source": [
    "train['PdDistrict'].value_counts()"
   ]
  },
  {
   "cell_type": "code",
   "execution_count": 19,
   "metadata": {
    "collapsed": false
   },
   "outputs": [
    {
     "data": {
      "image/png": "[encoded data removed]",
      "text/plain": [
       "<matplotlib.figure.Figure at 0x10cbea080>"
      ]
     },
     "metadata": {},
     "output_type": "display_data"
    }
   ],
   "source": [
    "plt.figure(figsize=(12,8))\n",
    "ax = sns.countplot(x=\"PdDistrict\", data=train)"
   ]
  },
  {
   "cell_type": "markdown",
   "metadata": {},
   "source": [
    "We can see that the most vulnerable areas to crime are the southern, mission and the northern areas. Whereas, Richmond District has the least number of crimes reported."
   ]
  },
  {
   "cell_type": "code",
   "execution_count": 20,
   "metadata": {
    "collapsed": false
   },
   "outputs": [
    {
     "data": {
      "text/plain": [
       "GRAND THEFT FROM LOCKED AUTO                                60022\n",
       "LOST PROPERTY                                               31729\n",
       "BATTERY                                                     27441\n",
       "STOLEN AUTOMOBILE                                           26897\n",
       "DRIVERS LICENSE, SUSPENDED OR REVOKED                       26839\n",
       "WARRANT ARREST                                              23754\n",
       "SUSPICIOUS OCCURRENCE                                       21891\n",
       "AIDED CASE, MENTAL DISTURBED                                21497\n",
       "PETTY THEFT FROM LOCKED AUTO                                19771\n",
       "MALICIOUS MISCHIEF, VANDALISM OF VEHICLES                   17789\n",
       "TRAFFIC VIOLATION                                           16471\n",
       "PETTY THEFT OF PROPERTY                                     16196\n",
       "MALICIOUS MISCHIEF, VANDALISM                               15957\n",
       "THREATS AGAINST LIFE                                        14716\n",
       "FOUND PROPERTY                                              12146\n",
       "ENROUTE TO OUTSIDE JURISDICTION                             11470\n",
       "GRAND THEFT OF PROPERTY                                     11010\n",
       "POSSESSION OF NARCOTICS PARAPHERNALIA                       10050\n",
       "PETTY THEFT FROM A BUILDING                                 10029\n",
       "PETTY THEFT SHOPLIFTING                                      9571\n",
       "GRAND THEFT FROM A BUILDING                                  9512\n",
       "FOUND PERSON                                                 9317\n",
       "RESISTING ARREST                                             8983\n",
       "CREDIT CARD, THEFT BY USE OF                                 8877\n",
       "MISSING JUVENILE                                             8620\n",
       "STOLEN TRUCK                                                 8591\n",
       "MISCELLANEOUS INVESTIGATION                                  8389\n",
       "VEHICLE, RECOVERED, AUTO                                     8199\n",
       "MISSING ADULT                                                8052\n",
       "PROBATION VIOLATION                                          8016\n",
       "                                                            ...  \n",
       "ENCOURAGE MINOR TO USE CONTROLLED SUBSTANCE                     1\n",
       "DRIVING, DRAG RACING                                            1\n",
       "BURGLARY,HOTEL UNDER CONSTRUCTION, ATT. FORCIBLE                1\n",
       "ASSAULT OR ATTEMPTED MURDER UPON GOV'T OFFICERS                 1\n",
       "AGGRAVATED ASSAULT OF POLICE OFFICER, SNIPING                   1\n",
       "PUBLIC UTILITY INFORMATION, FRAUDULENTLY OBTAINING              1\n",
       "WEARING THE APPAREL OF OPPOSITE SEX TO DECEIVE                  1\n",
       "SHOOTING BY JUVENILE SUSPECT                                    1\n",
       "EMBEZZLEMENT, GRAND THEFT BY PROPERTY CARRIER                   1\n",
       "ASSAULT TO ROB WITH BODILY FORCE                                1\n",
       "DISASTER AREA, ENTERING OR REMAINING IN                         1\n",
       "PUSH-CART PEDDLER PERMIT VIOLATION                              1\n",
       "FALSE REPORT OF POLICE MISCONDUCT                               1\n",
       "REFUSAL TO IDENTIFY                                             1\n",
       "ROBBERY,  ATM, GUN, ATT.                                        1\n",
       "ATTEMPTED THEFT PHONE BOOTH                                     1\n",
       "SOLICITING MINOR TO COMMIT FELONY                               1\n",
       "DESTRUCTIVE DEVICE, POSSESSION OF MATERIALS                     1\n",
       "BIGAMY, INCEST, AND THE CRIME AGAINST NATURE (GENERAL)          1\n",
       "KIDNAPPER, POSING AS                                            1\n",
       "DRUG LAB APPARATUS, POSSESSION                                  1\n",
       "OBSTRUCTING HEALTH FACILITY, PLACE OF WORSHIP, OR SCHOOL        1\n",
       "ASSAULT TO ROB BANK WITH A GUN                                  1\n",
       "ASSAULT, AGGRAVATED, ON POLICE OFFICER, W/ FULL AUTO            1\n",
       "ATTEMPTED SUICIDE BY DROWNING                                   1\n",
       "PUTTING SLUGS IN PARKING METERS                                 1\n",
       "SNIPER SCOPE, POSSESSION OF                                     1\n",
       "IMPERSONATING FIRE DEPARTMENT MEMBER                            1\n",
       "PURCHASE FEMALE FOR THE PURPOSE OF PROSTITUTION                 1\n",
       "PROCUREMENT, PIMPING, & PANDERING                               1\n",
       "Name: Descript, dtype: int64"
      ]
     },
     "execution_count": 20,
     "metadata": {},
     "output_type": "execute_result"
    }
   ],
   "source": [
    "train['Descript'].value_counts()"
   ]
  },
  {
   "cell_type": "code",
   "execution_count": 21,
   "metadata": {
    "collapsed": false
   },
   "outputs": [],
   "source": [
    "count_crime = train['Descript'].value_counts().reset_index().head(20)\n",
    "count_crime.columns=['crime','frequency']"
   ]
  },
  {
   "cell_type": "code",
   "execution_count": 22,
   "metadata": {
    "collapsed": false
   },
   "outputs": [
    {
     "data": {
      "text/html": [
       "<div>\n",
       "<table border=\"1\" class=\"dataframe\">\n",
       "  <thead>\n",
       "    <tr style=\"text-align: right;\">\n",
       "      <th></th>\n",
       "      <th>crime</th>\n",
       "      <th>frequency</th>\n",
       "    </tr>\n",
       "  </thead>\n",
       "  <tbody>\n",
       "    <tr>\n",
       "      <th>0</th>\n",
       "      <td>GRAND THEFT FROM LOCKED AUTO</td>\n",
       "      <td>60022</td>\n",
       "    </tr>\n",
       "    <tr>\n",
       "      <th>1</th>\n",
       "      <td>LOST PROPERTY</td>\n",
       "      <td>31729</td>\n",
       "    </tr>\n",
       "    <tr>\n",
       "      <th>2</th>\n",
       "      <td>BATTERY</td>\n",
       "      <td>27441</td>\n",
       "    </tr>\n",
       "    <tr>\n",
       "      <th>3</th>\n",
       "      <td>STOLEN AUTOMOBILE</td>\n",
       "      <td>26897</td>\n",
       "    </tr>\n",
       "    <tr>\n",
       "      <th>4</th>\n",
       "      <td>DRIVERS LICENSE, SUSPENDED OR REVOKED</td>\n",
       "      <td>26839</td>\n",
       "    </tr>\n",
       "    <tr>\n",
       "      <th>5</th>\n",
       "      <td>WARRANT ARREST</td>\n",
       "      <td>23754</td>\n",
       "    </tr>\n",
       "    <tr>\n",
       "      <th>6</th>\n",
       "      <td>SUSPICIOUS OCCURRENCE</td>\n",
       "      <td>21891</td>\n",
       "    </tr>\n",
       "    <tr>\n",
       "      <th>7</th>\n",
       "      <td>AIDED CASE, MENTAL DISTURBED</td>\n",
       "      <td>21497</td>\n",
       "    </tr>\n",
       "    <tr>\n",
       "      <th>8</th>\n",
       "      <td>PETTY THEFT FROM LOCKED AUTO</td>\n",
       "      <td>19771</td>\n",
       "    </tr>\n",
       "    <tr>\n",
       "      <th>9</th>\n",
       "      <td>MALICIOUS MISCHIEF, VANDALISM OF VEHICLES</td>\n",
       "      <td>17789</td>\n",
       "    </tr>\n",
       "    <tr>\n",
       "      <th>10</th>\n",
       "      <td>TRAFFIC VIOLATION</td>\n",
       "      <td>16471</td>\n",
       "    </tr>\n",
       "    <tr>\n",
       "      <th>11</th>\n",
       "      <td>PETTY THEFT OF PROPERTY</td>\n",
       "      <td>16196</td>\n",
       "    </tr>\n",
       "    <tr>\n",
       "      <th>12</th>\n",
       "      <td>MALICIOUS MISCHIEF, VANDALISM</td>\n",
       "      <td>15957</td>\n",
       "    </tr>\n",
       "    <tr>\n",
       "      <th>13</th>\n",
       "      <td>THREATS AGAINST LIFE</td>\n",
       "      <td>14716</td>\n",
       "    </tr>\n",
       "    <tr>\n",
       "      <th>14</th>\n",
       "      <td>FOUND PROPERTY</td>\n",
       "      <td>12146</td>\n",
       "    </tr>\n",
       "    <tr>\n",
       "      <th>15</th>\n",
       "      <td>ENROUTE TO OUTSIDE JURISDICTION</td>\n",
       "      <td>11470</td>\n",
       "    </tr>\n",
       "    <tr>\n",
       "      <th>16</th>\n",
       "      <td>GRAND THEFT OF PROPERTY</td>\n",
       "      <td>11010</td>\n",
       "    </tr>\n",
       "    <tr>\n",
       "      <th>17</th>\n",
       "      <td>POSSESSION OF NARCOTICS PARAPHERNALIA</td>\n",
       "      <td>10050</td>\n",
       "    </tr>\n",
       "    <tr>\n",
       "      <th>18</th>\n",
       "      <td>PETTY THEFT FROM A BUILDING</td>\n",
       "      <td>10029</td>\n",
       "    </tr>\n",
       "    <tr>\n",
       "      <th>19</th>\n",
       "      <td>PETTY THEFT SHOPLIFTING</td>\n",
       "      <td>9571</td>\n",
       "    </tr>\n",
       "  </tbody>\n",
       "</table>\n",
       "</div>"
      ],
      "text/plain": [
       "                                        crime  frequency\n",
       "0                GRAND THEFT FROM LOCKED AUTO      60022\n",
       "1                               LOST PROPERTY      31729\n",
       "2                                     BATTERY      27441\n",
       "3                           STOLEN AUTOMOBILE      26897\n",
       "4       DRIVERS LICENSE, SUSPENDED OR REVOKED      26839\n",
       "5                              WARRANT ARREST      23754\n",
       "6                       SUSPICIOUS OCCURRENCE      21891\n",
       "7                AIDED CASE, MENTAL DISTURBED      21497\n",
       "8                PETTY THEFT FROM LOCKED AUTO      19771\n",
       "9   MALICIOUS MISCHIEF, VANDALISM OF VEHICLES      17789\n",
       "10                          TRAFFIC VIOLATION      16471\n",
       "11                    PETTY THEFT OF PROPERTY      16196\n",
       "12              MALICIOUS MISCHIEF, VANDALISM      15957\n",
       "13                       THREATS AGAINST LIFE      14716\n",
       "14                             FOUND PROPERTY      12146\n",
       "15            ENROUTE TO OUTSIDE JURISDICTION      11470\n",
       "16                    GRAND THEFT OF PROPERTY      11010\n",
       "17      POSSESSION OF NARCOTICS PARAPHERNALIA      10050\n",
       "18                PETTY THEFT FROM A BUILDING      10029\n",
       "19                    PETTY THEFT SHOPLIFTING       9571"
      ]
     },
     "execution_count": 22,
     "metadata": {},
     "output_type": "execute_result"
    }
   ],
   "source": [
    "count_crime"
   ]
  },
  {
   "cell_type": "code",
   "execution_count": 23,
   "metadata": {
    "collapsed": false
   },
   "outputs": [
    {
     "data": {
      "text/html": [
       "<div>\n",
       "<table border=\"1\" class=\"dataframe\">\n",
       "  <thead>\n",
       "    <tr style=\"text-align: right;\">\n",
       "      <th></th>\n",
       "      <th>year</th>\n",
       "      <th>month</th>\n",
       "      <th>DayOfWeek</th>\n",
       "      <th>hour</th>\n",
       "      <th>PdDistrict</th>\n",
       "      <th>count</th>\n",
       "    </tr>\n",
       "  </thead>\n",
       "  <tbody>\n",
       "    <tr>\n",
       "      <th>0</th>\n",
       "      <td>2003</td>\n",
       "      <td>1</td>\n",
       "      <td>Friday</td>\n",
       "      <td>0</td>\n",
       "      <td>BAYVIEW</td>\n",
       "      <td>3</td>\n",
       "    </tr>\n",
       "    <tr>\n",
       "      <th>1</th>\n",
       "      <td>2003</td>\n",
       "      <td>1</td>\n",
       "      <td>Friday</td>\n",
       "      <td>0</td>\n",
       "      <td>CENTRAL</td>\n",
       "      <td>3</td>\n",
       "    </tr>\n",
       "    <tr>\n",
       "      <th>2</th>\n",
       "      <td>2003</td>\n",
       "      <td>1</td>\n",
       "      <td>Friday</td>\n",
       "      <td>0</td>\n",
       "      <td>INGLESIDE</td>\n",
       "      <td>1</td>\n",
       "    </tr>\n",
       "    <tr>\n",
       "      <th>3</th>\n",
       "      <td>2003</td>\n",
       "      <td>1</td>\n",
       "      <td>Friday</td>\n",
       "      <td>0</td>\n",
       "      <td>MISSION</td>\n",
       "      <td>4</td>\n",
       "    </tr>\n",
       "    <tr>\n",
       "      <th>4</th>\n",
       "      <td>2003</td>\n",
       "      <td>1</td>\n",
       "      <td>Friday</td>\n",
       "      <td>0</td>\n",
       "      <td>NORTHERN</td>\n",
       "      <td>8</td>\n",
       "    </tr>\n",
       "  </tbody>\n",
       "</table>\n",
       "</div>"
      ],
      "text/plain": [
       "   year  month DayOfWeek  hour PdDistrict  count\n",
       "0  2003      1    Friday     0    BAYVIEW      3\n",
       "1  2003      1    Friday     0    CENTRAL      3\n",
       "2  2003      1    Friday     0  INGLESIDE      1\n",
       "3  2003      1    Friday     0    MISSION      4\n",
       "4  2003      1    Friday     0   NORTHERN      8"
      ]
     },
     "execution_count": 23,
     "metadata": {},
     "output_type": "execute_result"
    }
   ],
   "source": [
    "grouped=pd.DataFrame(train.groupby(['year','month','DayOfWeek','hour','PdDistrict']).size(), columns=['count'])\n",
    "grouped.reset_index(inplace=True)\n",
    "grouped.head()"
   ]
  },
  {
   "cell_type": "code",
   "execution_count": 24,
   "metadata": {
    "collapsed": false
   },
   "outputs": [
    {
     "data": {
      "text/html": [
       "<div>\n",
       "<table border=\"1\" class=\"dataframe\">\n",
       "  <thead>\n",
       "    <tr style=\"text-align: right;\">\n",
       "      <th></th>\n",
       "      <th>index</th>\n",
       "      <th>Category</th>\n",
       "    </tr>\n",
       "  </thead>\n",
       "  <tbody>\n",
       "    <tr>\n",
       "      <th>0</th>\n",
       "      <td>LARCENY/THEFT</td>\n",
       "      <td>174900</td>\n",
       "    </tr>\n",
       "    <tr>\n",
       "      <th>1</th>\n",
       "      <td>OTHER OFFENSES</td>\n",
       "      <td>126182</td>\n",
       "    </tr>\n",
       "    <tr>\n",
       "      <th>2</th>\n",
       "      <td>NON-CRIMINAL</td>\n",
       "      <td>92304</td>\n",
       "    </tr>\n",
       "    <tr>\n",
       "      <th>3</th>\n",
       "      <td>ASSAULT</td>\n",
       "      <td>76876</td>\n",
       "    </tr>\n",
       "    <tr>\n",
       "      <th>4</th>\n",
       "      <td>DRUG/NARCOTIC</td>\n",
       "      <td>53971</td>\n",
       "    </tr>\n",
       "    <tr>\n",
       "      <th>5</th>\n",
       "      <td>VEHICLE THEFT</td>\n",
       "      <td>53781</td>\n",
       "    </tr>\n",
       "    <tr>\n",
       "      <th>6</th>\n",
       "      <td>VANDALISM</td>\n",
       "      <td>44725</td>\n",
       "    </tr>\n",
       "  </tbody>\n",
       "</table>\n",
       "</div>"
      ],
      "text/plain": [
       "            index  Category\n",
       "0   LARCENY/THEFT    174900\n",
       "1  OTHER OFFENSES    126182\n",
       "2    NON-CRIMINAL     92304\n",
       "3         ASSAULT     76876\n",
       "4   DRUG/NARCOTIC     53971\n",
       "5   VEHICLE THEFT     53781\n",
       "6       VANDALISM     44725"
      ]
     },
     "execution_count": 24,
     "metadata": {},
     "output_type": "execute_result"
    }
   ],
   "source": [
    "crime_cat = train['Category'].value_counts().reset_index().head(7)\n",
    "crime_cat"
   ]
  },
  {
   "cell_type": "code",
   "execution_count": 25,
   "metadata": {
    "collapsed": false
   },
   "outputs": [
    {
     "data": {
      "text/html": [
       "<div>\n",
       "<table border=\"1\" class=\"dataframe\">\n",
       "  <thead>\n",
       "    <tr style=\"text-align: right;\">\n",
       "      <th></th>\n",
       "      <th>Category</th>\n",
       "      <th>frequency</th>\n",
       "    </tr>\n",
       "  </thead>\n",
       "  <tbody>\n",
       "    <tr>\n",
       "      <th>0</th>\n",
       "      <td>LARCENY/THEFT</td>\n",
       "      <td>174900</td>\n",
       "    </tr>\n",
       "    <tr>\n",
       "      <th>1</th>\n",
       "      <td>OTHER OFFENSES</td>\n",
       "      <td>126182</td>\n",
       "    </tr>\n",
       "    <tr>\n",
       "      <th>2</th>\n",
       "      <td>NON-CRIMINAL</td>\n",
       "      <td>92304</td>\n",
       "    </tr>\n",
       "    <tr>\n",
       "      <th>3</th>\n",
       "      <td>ASSAULT</td>\n",
       "      <td>76876</td>\n",
       "    </tr>\n",
       "    <tr>\n",
       "      <th>4</th>\n",
       "      <td>DRUG/NARCOTIC</td>\n",
       "      <td>53971</td>\n",
       "    </tr>\n",
       "    <tr>\n",
       "      <th>5</th>\n",
       "      <td>VEHICLE THEFT</td>\n",
       "      <td>53781</td>\n",
       "    </tr>\n",
       "    <tr>\n",
       "      <th>6</th>\n",
       "      <td>VANDALISM</td>\n",
       "      <td>44725</td>\n",
       "    </tr>\n",
       "  </tbody>\n",
       "</table>\n",
       "</div>"
      ],
      "text/plain": [
       "         Category  frequency\n",
       "0   LARCENY/THEFT     174900\n",
       "1  OTHER OFFENSES     126182\n",
       "2    NON-CRIMINAL      92304\n",
       "3         ASSAULT      76876\n",
       "4   DRUG/NARCOTIC      53971\n",
       "5   VEHICLE THEFT      53781\n",
       "6       VANDALISM      44725"
      ]
     },
     "execution_count": 25,
     "metadata": {},
     "output_type": "execute_result"
    }
   ],
   "source": [
    "crime_cat.columns=['Category','frequency']\n",
    "#crime_cat = crime_cat.drop(['OTHER OFFENSES','NON-CRIMINAL'])\n",
    "crime_cat"
   ]
  },
  {
   "cell_type": "code",
   "execution_count": 26,
   "metadata": {
    "collapsed": false
   },
   "outputs": [
    {
     "data": {
      "text/plain": [
       "pandas.core.frame.DataFrame"
      ]
     },
     "execution_count": 26,
     "metadata": {},
     "output_type": "execute_result"
    }
   ],
   "source": [
    "#crime_cat = crime_cat.drop(['OTHER OFFENSES','NON-CRIMINAL'],axis = 1)\n",
    "type(crime_cat)"
   ]
  },
  {
   "cell_type": "code",
   "execution_count": 27,
   "metadata": {
    "collapsed": false
   },
   "outputs": [],
   "source": [
    "#crime_cat = dropcrime_cat[crime_cat['category']=='OTHER OFFENSES'], axis =1)"
   ]
  },
  {
   "cell_type": "code",
   "execution_count": 28,
   "metadata": {
    "collapsed": false
   },
   "outputs": [],
   "source": [
    "crime_cat = crime_cat.drop(crime_cat.index[1])"
   ]
  },
  {
   "cell_type": "code",
   "execution_count": 29,
   "metadata": {
    "collapsed": false
   },
   "outputs": [
    {
     "data": {
      "text/html": [
       "<div>\n",
       "<table border=\"1\" class=\"dataframe\">\n",
       "  <thead>\n",
       "    <tr style=\"text-align: right;\">\n",
       "      <th></th>\n",
       "      <th>Category</th>\n",
       "      <th>frequency</th>\n",
       "    </tr>\n",
       "  </thead>\n",
       "  <tbody>\n",
       "    <tr>\n",
       "      <th>0</th>\n",
       "      <td>LARCENY/THEFT</td>\n",
       "      <td>174900</td>\n",
       "    </tr>\n",
       "    <tr>\n",
       "      <th>2</th>\n",
       "      <td>NON-CRIMINAL</td>\n",
       "      <td>92304</td>\n",
       "    </tr>\n",
       "    <tr>\n",
       "      <th>3</th>\n",
       "      <td>ASSAULT</td>\n",
       "      <td>76876</td>\n",
       "    </tr>\n",
       "    <tr>\n",
       "      <th>4</th>\n",
       "      <td>DRUG/NARCOTIC</td>\n",
       "      <td>53971</td>\n",
       "    </tr>\n",
       "    <tr>\n",
       "      <th>5</th>\n",
       "      <td>VEHICLE THEFT</td>\n",
       "      <td>53781</td>\n",
       "    </tr>\n",
       "    <tr>\n",
       "      <th>6</th>\n",
       "      <td>VANDALISM</td>\n",
       "      <td>44725</td>\n",
       "    </tr>\n",
       "  </tbody>\n",
       "</table>\n",
       "</div>"
      ],
      "text/plain": [
       "        Category  frequency\n",
       "0  LARCENY/THEFT     174900\n",
       "2   NON-CRIMINAL      92304\n",
       "3        ASSAULT      76876\n",
       "4  DRUG/NARCOTIC      53971\n",
       "5  VEHICLE THEFT      53781\n",
       "6      VANDALISM      44725"
      ]
     },
     "execution_count": 29,
     "metadata": {},
     "output_type": "execute_result"
    }
   ],
   "source": [
    "crime_cat"
   ]
  },
  {
   "cell_type": "code",
   "execution_count": 30,
   "metadata": {
    "collapsed": false
   },
   "outputs": [],
   "source": [
    "crime_cat=crime_cat.drop(crime_cat.index[1])\n"
   ]
  },
  {
   "cell_type": "code",
   "execution_count": 31,
   "metadata": {
    "collapsed": false
   },
   "outputs": [
    {
     "data": {
      "text/html": [
       "<div>\n",
       "<table border=\"1\" class=\"dataframe\">\n",
       "  <thead>\n",
       "    <tr style=\"text-align: right;\">\n",
       "      <th></th>\n",
       "      <th>Category</th>\n",
       "      <th>frequency</th>\n",
       "    </tr>\n",
       "  </thead>\n",
       "  <tbody>\n",
       "    <tr>\n",
       "      <th>0</th>\n",
       "      <td>LARCENY/THEFT</td>\n",
       "      <td>174900</td>\n",
       "    </tr>\n",
       "    <tr>\n",
       "      <th>3</th>\n",
       "      <td>ASSAULT</td>\n",
       "      <td>76876</td>\n",
       "    </tr>\n",
       "    <tr>\n",
       "      <th>4</th>\n",
       "      <td>DRUG/NARCOTIC</td>\n",
       "      <td>53971</td>\n",
       "    </tr>\n",
       "    <tr>\n",
       "      <th>5</th>\n",
       "      <td>VEHICLE THEFT</td>\n",
       "      <td>53781</td>\n",
       "    </tr>\n",
       "    <tr>\n",
       "      <th>6</th>\n",
       "      <td>VANDALISM</td>\n",
       "      <td>44725</td>\n",
       "    </tr>\n",
       "  </tbody>\n",
       "</table>\n",
       "</div>"
      ],
      "text/plain": [
       "        Category  frequency\n",
       "0  LARCENY/THEFT     174900\n",
       "3        ASSAULT      76876\n",
       "4  DRUG/NARCOTIC      53971\n",
       "5  VEHICLE THEFT      53781\n",
       "6      VANDALISM      44725"
      ]
     },
     "execution_count": 31,
     "metadata": {},
     "output_type": "execute_result"
    }
   ],
   "source": [
    "crime_cat"
   ]
  },
  {
   "cell_type": "code",
   "execution_count": 32,
   "metadata": {
    "collapsed": false
   },
   "outputs": [
    {
     "data": {
      "text/plain": [
       "<matplotlib.text.Text at 0x10d6a3438>"
      ]
     },
     "execution_count": 32,
     "metadata": {},
     "output_type": "execute_result"
    },
    {
     "data": {
      "image/png": "[encoded data removed]",
      "text/plain": [
       "<matplotlib.figure.Figure at 0x10da6f978>"
      ]
     },
     "metadata": {},
     "output_type": "display_data"
    }
   ],
   "source": [
    "plt.figure(figsize=(16,16))\n",
    "sns.barplot(crime_cat.Category, crime_cat.frequency)\n",
    "plt.ylabel('Frequency of the crime', fontsize=14)\n",
    "plt.xlabel('Type of ctime', fontsize=14)\n",
    "plt.title('Top 5 crimes', fontsize=16)"
   ]
  },
  {
   "cell_type": "markdown",
   "metadata": {},
   "source": [
    "By plotting the top 5 crimes of the SF region, larceny/theft tops the list follwed by assault."
   ]
  },
  {
   "cell_type": "code",
   "execution_count": 33,
   "metadata": {
    "collapsed": false
   },
   "outputs": [
    {
     "data": {
      "image/png": "[encoded data removed]",
      "text/plain": [
       "<matplotlib.figure.Figure at 0x10d719748>"
      ]
     },
     "metadata": {},
     "output_type": "display_data"
    }
   ],
   "source": [
    "plt.figure(figsize=(12,8))\n",
    "ax=sns.countplot(x='hour',data=train[train['DayOfWeek']=='Sunday'])"
   ]
  },
  {
   "cell_type": "code",
   "execution_count": 34,
   "metadata": {
    "collapsed": false
   },
   "outputs": [
    {
     "data": {
      "image/png": "[encoded data removed]",
      "text/plain": [
       "<matplotlib.figure.Figure at 0x110918b38>"
      ]
     },
     "metadata": {},
     "output_type": "display_data"
    }
   ],
   "source": [
    "plt.figure(figsize=(12,8))\n",
    "ax=sns.countplot(x='hour',data=train[train['DayOfWeek']=='Saturday'])"
   ]
  },
  {
   "cell_type": "markdown",
   "metadata": {},
   "source": [
    "From the above two graphs we can see that, the crime activity increases in the weekend at night on saturday from 10pm-12AM."
   ]
  },
  {
   "cell_type": "code",
   "execution_count": 35,
   "metadata": {
    "collapsed": false
   },
   "outputs": [
    {
     "data": {
      "image/png": "[encoded data removed]",
      "text/plain": [
       "<matplotlib.figure.Figure at 0x1109220b8>"
      ]
     },
     "metadata": {},
     "output_type": "display_data"
    }
   ],
   "source": [
    "plt.figure(figsize=(12,8))\n",
    "ax=sns.countplot(x='hour',data=train[train['DayOfWeek']=='Friday'])"
   ]
  },
  {
   "cell_type": "markdown",
   "metadata": {},
   "source": [
    "Whereas on Friday the crime activity is most at 6pm. This might be due to the fact that the city is overly crowded with people coming to the city and leaving the city around this time."
   ]
  },
  {
   "cell_type": "code",
   "execution_count": 36,
   "metadata": {
    "collapsed": false
   },
   "outputs": [
    {
     "data": {
      "image/png": "[encoded data removed]",
      "text/plain": [
       "<matplotlib.figure.Figure at 0x10d9a1e48>"
      ]
     },
     "metadata": {},
     "output_type": "display_data"
    }
   ],
   "source": [
    "plt.figure(figsize=(12,8))\n",
    "ax=sns.countplot(x='hour',data=train[train['DayOfWeek']=='Wednesday'])"
   ]
  },
  {
   "cell_type": "code",
   "execution_count": 37,
   "metadata": {
    "collapsed": true
   },
   "outputs": [],
   "source": [
    "crime_res = train['Resolution'].value_counts().reset_index()"
   ]
  },
  {
   "cell_type": "code",
   "execution_count": 38,
   "metadata": {
    "collapsed": false
   },
   "outputs": [
    {
     "data": {
      "text/html": [
       "<div>\n",
       "<table border=\"1\" class=\"dataframe\">\n",
       "  <thead>\n",
       "    <tr style=\"text-align: right;\">\n",
       "      <th></th>\n",
       "      <th>index</th>\n",
       "      <th>Resolution</th>\n",
       "    </tr>\n",
       "  </thead>\n",
       "  <tbody>\n",
       "    <tr>\n",
       "      <th>0</th>\n",
       "      <td>NONE</td>\n",
       "      <td>526790</td>\n",
       "    </tr>\n",
       "    <tr>\n",
       "      <th>1</th>\n",
       "      <td>ARREST, BOOKED</td>\n",
       "      <td>206403</td>\n",
       "    </tr>\n",
       "    <tr>\n",
       "      <th>2</th>\n",
       "      <td>ARREST, CITED</td>\n",
       "      <td>77004</td>\n",
       "    </tr>\n",
       "    <tr>\n",
       "      <th>3</th>\n",
       "      <td>LOCATED</td>\n",
       "      <td>17101</td>\n",
       "    </tr>\n",
       "    <tr>\n",
       "      <th>4</th>\n",
       "      <td>PSYCHOPATHIC CASE</td>\n",
       "      <td>14534</td>\n",
       "    </tr>\n",
       "  </tbody>\n",
       "</table>\n",
       "</div>"
      ],
      "text/plain": [
       "               index  Resolution\n",
       "0               NONE      526790\n",
       "1     ARREST, BOOKED      206403\n",
       "2      ARREST, CITED       77004\n",
       "3            LOCATED       17101\n",
       "4  PSYCHOPATHIC CASE       14534"
      ]
     },
     "execution_count": 38,
     "metadata": {},
     "output_type": "execute_result"
    }
   ],
   "source": [
    "crime_res.head()"
   ]
  },
  {
   "cell_type": "code",
   "execution_count": 39,
   "metadata": {
    "collapsed": false
   },
   "outputs": [
    {
     "data": {
      "text/html": [
       "<div>\n",
       "<table border=\"1\" class=\"dataframe\">\n",
       "  <thead>\n",
       "    <tr style=\"text-align: right;\">\n",
       "      <th></th>\n",
       "      <th>resolution</th>\n",
       "      <th>frequency</th>\n",
       "    </tr>\n",
       "  </thead>\n",
       "  <tbody>\n",
       "    <tr>\n",
       "      <th>1</th>\n",
       "      <td>ARREST, BOOKED</td>\n",
       "      <td>206403</td>\n",
       "    </tr>\n",
       "    <tr>\n",
       "      <th>2</th>\n",
       "      <td>ARREST, CITED</td>\n",
       "      <td>77004</td>\n",
       "    </tr>\n",
       "    <tr>\n",
       "      <th>3</th>\n",
       "      <td>LOCATED</td>\n",
       "      <td>17101</td>\n",
       "    </tr>\n",
       "    <tr>\n",
       "      <th>4</th>\n",
       "      <td>PSYCHOPATHIC CASE</td>\n",
       "      <td>14534</td>\n",
       "    </tr>\n",
       "    <tr>\n",
       "      <th>5</th>\n",
       "      <td>UNFOUNDED</td>\n",
       "      <td>9585</td>\n",
       "    </tr>\n",
       "    <tr>\n",
       "      <th>6</th>\n",
       "      <td>JUVENILE BOOKED</td>\n",
       "      <td>5564</td>\n",
       "    </tr>\n",
       "    <tr>\n",
       "      <th>7</th>\n",
       "      <td>COMPLAINANT REFUSES TO PROSECUTE</td>\n",
       "      <td>3976</td>\n",
       "    </tr>\n",
       "    <tr>\n",
       "      <th>8</th>\n",
       "      <td>DISTRICT ATTORNEY REFUSES TO PROSECUTE</td>\n",
       "      <td>3934</td>\n",
       "    </tr>\n",
       "    <tr>\n",
       "      <th>9</th>\n",
       "      <td>NOT PROSECUTED</td>\n",
       "      <td>3714</td>\n",
       "    </tr>\n",
       "    <tr>\n",
       "      <th>10</th>\n",
       "      <td>JUVENILE CITED</td>\n",
       "      <td>3332</td>\n",
       "    </tr>\n",
       "    <tr>\n",
       "      <th>11</th>\n",
       "      <td>PROSECUTED BY OUTSIDE AGENCY</td>\n",
       "      <td>2504</td>\n",
       "    </tr>\n",
       "    <tr>\n",
       "      <th>12</th>\n",
       "      <td>EXCEPTIONAL CLEARANCE</td>\n",
       "      <td>1530</td>\n",
       "    </tr>\n",
       "    <tr>\n",
       "      <th>13</th>\n",
       "      <td>JUVENILE ADMONISHED</td>\n",
       "      <td>1455</td>\n",
       "    </tr>\n",
       "    <tr>\n",
       "      <th>14</th>\n",
       "      <td>JUVENILE DIVERTED</td>\n",
       "      <td>355</td>\n",
       "    </tr>\n",
       "    <tr>\n",
       "      <th>15</th>\n",
       "      <td>CLEARED-CONTACT JUVENILE FOR MORE INFO</td>\n",
       "      <td>217</td>\n",
       "    </tr>\n",
       "    <tr>\n",
       "      <th>16</th>\n",
       "      <td>PROSECUTED FOR LESSER OFFENSE</td>\n",
       "      <td>51</td>\n",
       "    </tr>\n",
       "  </tbody>\n",
       "</table>\n",
       "</div>"
      ],
      "text/plain": [
       "                                resolution  frequency\n",
       "1                           ARREST, BOOKED     206403\n",
       "2                            ARREST, CITED      77004\n",
       "3                                  LOCATED      17101\n",
       "4                        PSYCHOPATHIC CASE      14534\n",
       "5                                UNFOUNDED       9585\n",
       "6                          JUVENILE BOOKED       5564\n",
       "7         COMPLAINANT REFUSES TO PROSECUTE       3976\n",
       "8   DISTRICT ATTORNEY REFUSES TO PROSECUTE       3934\n",
       "9                           NOT PROSECUTED       3714\n",
       "10                          JUVENILE CITED       3332\n",
       "11            PROSECUTED BY OUTSIDE AGENCY       2504\n",
       "12                   EXCEPTIONAL CLEARANCE       1530\n",
       "13                     JUVENILE ADMONISHED       1455\n",
       "14                       JUVENILE DIVERTED        355\n",
       "15  CLEARED-CONTACT JUVENILE FOR MORE INFO        217\n",
       "16           PROSECUTED FOR LESSER OFFENSE         51"
      ]
     },
     "execution_count": 39,
     "metadata": {},
     "output_type": "execute_result"
    }
   ],
   "source": [
    "crime_res = crime_res.drop(crime_res.index[0])\n",
    "crime_res.columns=['resolution','frequency']\n",
    "crime_res"
   ]
  },
  {
   "cell_type": "code",
   "execution_count": 40,
   "metadata": {
    "collapsed": false
   },
   "outputs": [
    {
     "data": {
      "text/html": [
       "<div>\n",
       "<table border=\"1\" class=\"dataframe\">\n",
       "  <thead>\n",
       "    <tr style=\"text-align: right;\">\n",
       "      <th></th>\n",
       "      <th>Category</th>\n",
       "      <th>frequency</th>\n",
       "      <th>Dates</th>\n",
       "      <th>Descript</th>\n",
       "      <th>DayOfWeek</th>\n",
       "      <th>PdDistrict</th>\n",
       "      <th>Resolution</th>\n",
       "      <th>Address</th>\n",
       "      <th>X</th>\n",
       "      <th>Y</th>\n",
       "      <th>month</th>\n",
       "      <th>hour</th>\n",
       "      <th>year</th>\n",
       "    </tr>\n",
       "  </thead>\n",
       "  <tbody>\n",
       "    <tr>\n",
       "      <th>0</th>\n",
       "      <td>LARCENY/THEFT</td>\n",
       "      <td>174900</td>\n",
       "      <td>2015-05-13 23:30:00</td>\n",
       "      <td>GRAND THEFT FROM LOCKED AUTO</td>\n",
       "      <td>Wednesday</td>\n",
       "      <td>NORTHERN</td>\n",
       "      <td>NONE</td>\n",
       "      <td>1500 Block of LOMBARD ST</td>\n",
       "      <td>-122.426995</td>\n",
       "      <td>37.800873</td>\n",
       "      <td>5</td>\n",
       "      <td>23</td>\n",
       "      <td>2015</td>\n",
       "    </tr>\n",
       "    <tr>\n",
       "      <th>1</th>\n",
       "      <td>LARCENY/THEFT</td>\n",
       "      <td>174900</td>\n",
       "      <td>2015-05-13 23:30:00</td>\n",
       "      <td>GRAND THEFT FROM LOCKED AUTO</td>\n",
       "      <td>Wednesday</td>\n",
       "      <td>PARK</td>\n",
       "      <td>NONE</td>\n",
       "      <td>100 Block of BRODERICK ST</td>\n",
       "      <td>-122.438738</td>\n",
       "      <td>37.771541</td>\n",
       "      <td>5</td>\n",
       "      <td>23</td>\n",
       "      <td>2015</td>\n",
       "    </tr>\n",
       "    <tr>\n",
       "      <th>2</th>\n",
       "      <td>LARCENY/THEFT</td>\n",
       "      <td>174900</td>\n",
       "      <td>2015-05-13 23:30:00</td>\n",
       "      <td>GRAND THEFT FROM UNLOCKED AUTO</td>\n",
       "      <td>Wednesday</td>\n",
       "      <td>INGLESIDE</td>\n",
       "      <td>NONE</td>\n",
       "      <td>0 Block of TEDDY AV</td>\n",
       "      <td>-122.403252</td>\n",
       "      <td>37.713431</td>\n",
       "      <td>5</td>\n",
       "      <td>23</td>\n",
       "      <td>2015</td>\n",
       "    </tr>\n",
       "    <tr>\n",
       "      <th>3</th>\n",
       "      <td>LARCENY/THEFT</td>\n",
       "      <td>174900</td>\n",
       "      <td>2015-05-13 23:00:00</td>\n",
       "      <td>GRAND THEFT FROM LOCKED AUTO</td>\n",
       "      <td>Wednesday</td>\n",
       "      <td>RICHMOND</td>\n",
       "      <td>NONE</td>\n",
       "      <td>600 Block of 47TH AV</td>\n",
       "      <td>-122.508194</td>\n",
       "      <td>37.776601</td>\n",
       "      <td>5</td>\n",
       "      <td>23</td>\n",
       "      <td>2015</td>\n",
       "    </tr>\n",
       "    <tr>\n",
       "      <th>4</th>\n",
       "      <td>LARCENY/THEFT</td>\n",
       "      <td>174900</td>\n",
       "      <td>2015-05-13 23:00:00</td>\n",
       "      <td>GRAND THEFT FROM LOCKED AUTO</td>\n",
       "      <td>Wednesday</td>\n",
       "      <td>CENTRAL</td>\n",
       "      <td>NONE</td>\n",
       "      <td>JEFFERSON ST / LEAVENWORTH ST</td>\n",
       "      <td>-122.419088</td>\n",
       "      <td>37.807802</td>\n",
       "      <td>5</td>\n",
       "      <td>23</td>\n",
       "      <td>2015</td>\n",
       "    </tr>\n",
       "    <tr>\n",
       "      <th>5</th>\n",
       "      <td>LARCENY/THEFT</td>\n",
       "      <td>174900</td>\n",
       "      <td>2015-05-13 22:58:00</td>\n",
       "      <td>PETTY THEFT FROM LOCKED AUTO</td>\n",
       "      <td>Wednesday</td>\n",
       "      <td>CENTRAL</td>\n",
       "      <td>NONE</td>\n",
       "      <td>JEFFERSON ST / LEAVENWORTH ST</td>\n",
       "      <td>-122.419088</td>\n",
       "      <td>37.807802</td>\n",
       "      <td>5</td>\n",
       "      <td>22</td>\n",
       "      <td>2015</td>\n",
       "    </tr>\n",
       "    <tr>\n",
       "      <th>6</th>\n",
       "      <td>LARCENY/THEFT</td>\n",
       "      <td>174900</td>\n",
       "      <td>2015-05-13 22:06:00</td>\n",
       "      <td>GRAND THEFT FROM LOCKED AUTO</td>\n",
       "      <td>Wednesday</td>\n",
       "      <td>NORTHERN</td>\n",
       "      <td>NONE</td>\n",
       "      <td>FILLMORE ST / GEARY BL</td>\n",
       "      <td>-122.432915</td>\n",
       "      <td>37.784353</td>\n",
       "      <td>5</td>\n",
       "      <td>22</td>\n",
       "      <td>2015</td>\n",
       "    </tr>\n",
       "    <tr>\n",
       "      <th>7</th>\n",
       "      <td>LARCENY/THEFT</td>\n",
       "      <td>174900</td>\n",
       "      <td>2015-05-13 21:30:00</td>\n",
       "      <td>GRAND THEFT FROM LOCKED AUTO</td>\n",
       "      <td>Wednesday</td>\n",
       "      <td>INGLESIDE</td>\n",
       "      <td>NONE</td>\n",
       "      <td>200 Block of EVELYN WY</td>\n",
       "      <td>-122.449389</td>\n",
       "      <td>37.742669</td>\n",
       "      <td>5</td>\n",
       "      <td>21</td>\n",
       "      <td>2015</td>\n",
       "    </tr>\n",
       "    <tr>\n",
       "      <th>8</th>\n",
       "      <td>LARCENY/THEFT</td>\n",
       "      <td>174900</td>\n",
       "      <td>2015-05-13 21:10:00</td>\n",
       "      <td>GRAND THEFT FROM LOCKED AUTO</td>\n",
       "      <td>Wednesday</td>\n",
       "      <td>NORTHERN</td>\n",
       "      <td>NONE</td>\n",
       "      <td>FILLMORE ST / LOMBARD ST</td>\n",
       "      <td>-122.436049</td>\n",
       "      <td>37.799841</td>\n",
       "      <td>5</td>\n",
       "      <td>21</td>\n",
       "      <td>2015</td>\n",
       "    </tr>\n",
       "    <tr>\n",
       "      <th>9</th>\n",
       "      <td>LARCENY/THEFT</td>\n",
       "      <td>174900</td>\n",
       "      <td>2015-05-13 21:00:00</td>\n",
       "      <td>GRAND THEFT FROM LOCKED AUTO</td>\n",
       "      <td>Wednesday</td>\n",
       "      <td>NORTHERN</td>\n",
       "      <td>NONE</td>\n",
       "      <td>2000 Block of BUSH ST</td>\n",
       "      <td>-122.431018</td>\n",
       "      <td>37.787388</td>\n",
       "      <td>5</td>\n",
       "      <td>21</td>\n",
       "      <td>2015</td>\n",
       "    </tr>\n",
       "    <tr>\n",
       "      <th>10</th>\n",
       "      <td>LARCENY/THEFT</td>\n",
       "      <td>174900</td>\n",
       "      <td>2015-05-13 21:00:00</td>\n",
       "      <td>GRAND THEFT FROM LOCKED AUTO</td>\n",
       "      <td>Wednesday</td>\n",
       "      <td>INGLESIDE</td>\n",
       "      <td>NONE</td>\n",
       "      <td>500 Block of COLLEGE AV</td>\n",
       "      <td>-122.423656</td>\n",
       "      <td>37.732556</td>\n",
       "      <td>5</td>\n",
       "      <td>21</td>\n",
       "      <td>2015</td>\n",
       "    </tr>\n",
       "    <tr>\n",
       "      <th>11</th>\n",
       "      <td>LARCENY/THEFT</td>\n",
       "      <td>174900</td>\n",
       "      <td>2015-05-13 21:00:00</td>\n",
       "      <td>ATTEMPTED THEFT FROM LOCKED VEHICLE</td>\n",
       "      <td>Wednesday</td>\n",
       "      <td>TARAVAL</td>\n",
       "      <td>NONE</td>\n",
       "      <td>19TH AV / SANTIAGO ST</td>\n",
       "      <td>-122.475773</td>\n",
       "      <td>37.744919</td>\n",
       "      <td>5</td>\n",
       "      <td>21</td>\n",
       "      <td>2015</td>\n",
       "    </tr>\n",
       "    <tr>\n",
       "      <th>12</th>\n",
       "      <td>LARCENY/THEFT</td>\n",
       "      <td>174900</td>\n",
       "      <td>2015-05-13 20:54:00</td>\n",
       "      <td>GRAND THEFT FROM LOCKED AUTO</td>\n",
       "      <td>Wednesday</td>\n",
       "      <td>NORTHERN</td>\n",
       "      <td>NONE</td>\n",
       "      <td>1300 Block of WEBSTER ST</td>\n",
       "      <td>-122.431046</td>\n",
       "      <td>37.783030</td>\n",
       "      <td>5</td>\n",
       "      <td>20</td>\n",
       "      <td>2015</td>\n",
       "    </tr>\n",
       "    <tr>\n",
       "      <th>13</th>\n",
       "      <td>LARCENY/THEFT</td>\n",
       "      <td>174900</td>\n",
       "      <td>2015-05-13 20:30:00</td>\n",
       "      <td>GRAND THEFT FROM LOCKED AUTO</td>\n",
       "      <td>Wednesday</td>\n",
       "      <td>NORTHERN</td>\n",
       "      <td>NONE</td>\n",
       "      <td>1600 Block of WEBSTER ST</td>\n",
       "      <td>-122.431310</td>\n",
       "      <td>37.785871</td>\n",
       "      <td>5</td>\n",
       "      <td>20</td>\n",
       "      <td>2015</td>\n",
       "    </tr>\n",
       "    <tr>\n",
       "      <th>14</th>\n",
       "      <td>LARCENY/THEFT</td>\n",
       "      <td>174900</td>\n",
       "      <td>2015-05-13 20:30:00</td>\n",
       "      <td>GRAND THEFT FROM LOCKED AUTO</td>\n",
       "      <td>Wednesday</td>\n",
       "      <td>SOUTHERN</td>\n",
       "      <td>NONE</td>\n",
       "      <td>KING ST / 3RD ST</td>\n",
       "      <td>-122.391846</td>\n",
       "      <td>37.778125</td>\n",
       "      <td>5</td>\n",
       "      <td>20</td>\n",
       "      <td>2015</td>\n",
       "    </tr>\n",
       "    <tr>\n",
       "      <th>15</th>\n",
       "      <td>LARCENY/THEFT</td>\n",
       "      <td>174900</td>\n",
       "      <td>2015-05-13 20:30:00</td>\n",
       "      <td>GRAND THEFT FROM LOCKED AUTO</td>\n",
       "      <td>Wednesday</td>\n",
       "      <td>NORTHERN</td>\n",
       "      <td>NONE</td>\n",
       "      <td>VALLEJO ST / BUCHANAN ST</td>\n",
       "      <td>-122.431831</td>\n",
       "      <td>37.795642</td>\n",
       "      <td>5</td>\n",
       "      <td>20</td>\n",
       "      <td>2015</td>\n",
       "    </tr>\n",
       "    <tr>\n",
       "      <th>16</th>\n",
       "      <td>LARCENY/THEFT</td>\n",
       "      <td>174900</td>\n",
       "      <td>2015-05-13 20:30:00</td>\n",
       "      <td>GRAND THEFT FROM LOCKED AUTO</td>\n",
       "      <td>Wednesday</td>\n",
       "      <td>NORTHERN</td>\n",
       "      <td>NONE</td>\n",
       "      <td>CALIFORNIA ST / BUCHANAN ST</td>\n",
       "      <td>-122.430552</td>\n",
       "      <td>37.789323</td>\n",
       "      <td>5</td>\n",
       "      <td>20</td>\n",
       "      <td>2015</td>\n",
       "    </tr>\n",
       "    <tr>\n",
       "      <th>17</th>\n",
       "      <td>LARCENY/THEFT</td>\n",
       "      <td>174900</td>\n",
       "      <td>2015-05-13 20:15:00</td>\n",
       "      <td>PETTY THEFT FROM LOCKED AUTO</td>\n",
       "      <td>Wednesday</td>\n",
       "      <td>SOUTHERN</td>\n",
       "      <td>NONE</td>\n",
       "      <td>1600 Block of MARKET ST</td>\n",
       "      <td>-122.422128</td>\n",
       "      <td>37.773033</td>\n",
       "      <td>5</td>\n",
       "      <td>20</td>\n",
       "      <td>2015</td>\n",
       "    </tr>\n",
       "    <tr>\n",
       "      <th>18</th>\n",
       "      <td>LARCENY/THEFT</td>\n",
       "      <td>174900</td>\n",
       "      <td>2015-05-13 20:15:00</td>\n",
       "      <td>PETTY THEFT SHOPLIFTING</td>\n",
       "      <td>Wednesday</td>\n",
       "      <td>TENDERLOIN</td>\n",
       "      <td>NONE</td>\n",
       "      <td>0 Block of STOCKTON ST</td>\n",
       "      <td>-122.406352</td>\n",
       "      <td>37.786031</td>\n",
       "      <td>5</td>\n",
       "      <td>20</td>\n",
       "      <td>2015</td>\n",
       "    </tr>\n",
       "    <tr>\n",
       "      <th>19</th>\n",
       "      <td>LARCENY/THEFT</td>\n",
       "      <td>174900</td>\n",
       "      <td>2015-05-13 20:00:00</td>\n",
       "      <td>GRAND THEFT FROM PERSON</td>\n",
       "      <td>Wednesday</td>\n",
       "      <td>TARAVAL</td>\n",
       "      <td>NONE</td>\n",
       "      <td>LINCOLN WY / 14TH AV</td>\n",
       "      <td>-122.471800</td>\n",
       "      <td>37.765687</td>\n",
       "      <td>5</td>\n",
       "      <td>20</td>\n",
       "      <td>2015</td>\n",
       "    </tr>\n",
       "    <tr>\n",
       "      <th>20</th>\n",
       "      <td>LARCENY/THEFT</td>\n",
       "      <td>174900</td>\n",
       "      <td>2015-05-13 19:30:00</td>\n",
       "      <td>PETTY THEFT FROM A BUILDING</td>\n",
       "      <td>Wednesday</td>\n",
       "      <td>SOUTHERN</td>\n",
       "      <td>NONE</td>\n",
       "      <td>0 Block of 3RD ST</td>\n",
       "      <td>-122.403285</td>\n",
       "      <td>37.787306</td>\n",
       "      <td>5</td>\n",
       "      <td>19</td>\n",
       "      <td>2015</td>\n",
       "    </tr>\n",
       "    <tr>\n",
       "      <th>21</th>\n",
       "      <td>LARCENY/THEFT</td>\n",
       "      <td>174900</td>\n",
       "      <td>2015-05-13 19:30:00</td>\n",
       "      <td>GRAND THEFT FROM UNLOCKED AUTO</td>\n",
       "      <td>Wednesday</td>\n",
       "      <td>SOUTHERN</td>\n",
       "      <td>NONE</td>\n",
       "      <td>500 Block of BRANNAN ST</td>\n",
       "      <td>-122.397616</td>\n",
       "      <td>37.777392</td>\n",
       "      <td>5</td>\n",
       "      <td>19</td>\n",
       "      <td>2015</td>\n",
       "    </tr>\n",
       "    <tr>\n",
       "      <th>22</th>\n",
       "      <td>LARCENY/THEFT</td>\n",
       "      <td>174900</td>\n",
       "      <td>2015-05-13 19:30:00</td>\n",
       "      <td>GRAND THEFT FROM PERSON</td>\n",
       "      <td>Wednesday</td>\n",
       "      <td>SOUTHERN</td>\n",
       "      <td>NONE</td>\n",
       "      <td>MISSION ST / 2ND ST</td>\n",
       "      <td>-122.399802</td>\n",
       "      <td>37.788007</td>\n",
       "      <td>5</td>\n",
       "      <td>19</td>\n",
       "      <td>2015</td>\n",
       "    </tr>\n",
       "    <tr>\n",
       "      <th>23</th>\n",
       "      <td>LARCENY/THEFT</td>\n",
       "      <td>174900</td>\n",
       "      <td>2015-05-13 19:30:00</td>\n",
       "      <td>GRAND THEFT OF PROPERTY</td>\n",
       "      <td>Wednesday</td>\n",
       "      <td>NORTHERN</td>\n",
       "      <td>NONE</td>\n",
       "      <td>GEARY ST / VANNESS AV</td>\n",
       "      <td>-122.421396</td>\n",
       "      <td>37.785684</td>\n",
       "      <td>5</td>\n",
       "      <td>19</td>\n",
       "      <td>2015</td>\n",
       "    </tr>\n",
       "    <tr>\n",
       "      <th>24</th>\n",
       "      <td>LARCENY/THEFT</td>\n",
       "      <td>174900</td>\n",
       "      <td>2015-05-13 19:30:00</td>\n",
       "      <td>GRAND THEFT FROM LOCKED AUTO</td>\n",
       "      <td>Wednesday</td>\n",
       "      <td>SOUTHERN</td>\n",
       "      <td>NONE</td>\n",
       "      <td>HARRISON ST / 10TH ST</td>\n",
       "      <td>-122.411279</td>\n",
       "      <td>37.771579</td>\n",
       "      <td>5</td>\n",
       "      <td>19</td>\n",
       "      <td>2015</td>\n",
       "    </tr>\n",
       "    <tr>\n",
       "      <th>25</th>\n",
       "      <td>LARCENY/THEFT</td>\n",
       "      <td>174900</td>\n",
       "      <td>2015-05-13 19:30:00</td>\n",
       "      <td>GRAND THEFT FROM LOCKED AUTO</td>\n",
       "      <td>Wednesday</td>\n",
       "      <td>NORTHERN</td>\n",
       "      <td>NONE</td>\n",
       "      <td>GEARY BL / LAGUNA ST</td>\n",
       "      <td>-122.427991</td>\n",
       "      <td>37.784953</td>\n",
       "      <td>5</td>\n",
       "      <td>19</td>\n",
       "      <td>2015</td>\n",
       "    </tr>\n",
       "    <tr>\n",
       "      <th>26</th>\n",
       "      <td>LARCENY/THEFT</td>\n",
       "      <td>174900</td>\n",
       "      <td>2015-05-13 19:15:00</td>\n",
       "      <td>PETTY THEFT FROM LOCKED AUTO</td>\n",
       "      <td>Wednesday</td>\n",
       "      <td>SOUTHERN</td>\n",
       "      <td>NONE</td>\n",
       "      <td>300 Block of 10TH ST</td>\n",
       "      <td>-122.411637</td>\n",
       "      <td>37.771787</td>\n",
       "      <td>5</td>\n",
       "      <td>19</td>\n",
       "      <td>2015</td>\n",
       "    </tr>\n",
       "    <tr>\n",
       "      <th>27</th>\n",
       "      <td>LARCENY/THEFT</td>\n",
       "      <td>174900</td>\n",
       "      <td>2015-05-13 19:15:00</td>\n",
       "      <td>GRAND THEFT FROM UNLOCKED AUTO</td>\n",
       "      <td>Wednesday</td>\n",
       "      <td>TARAVAL</td>\n",
       "      <td>NONE</td>\n",
       "      <td>19TH AV / WINSTON DR</td>\n",
       "      <td>-122.474899</td>\n",
       "      <td>37.726991</td>\n",
       "      <td>5</td>\n",
       "      <td>19</td>\n",
       "      <td>2015</td>\n",
       "    </tr>\n",
       "    <tr>\n",
       "      <th>28</th>\n",
       "      <td>LARCENY/THEFT</td>\n",
       "      <td>174900</td>\n",
       "      <td>2015-05-13 19:11:00</td>\n",
       "      <td>GRAND THEFT FROM LOCKED AUTO</td>\n",
       "      <td>Wednesday</td>\n",
       "      <td>SOUTHERN</td>\n",
       "      <td>NONE</td>\n",
       "      <td>400 Block of BRANNAN ST</td>\n",
       "      <td>-122.395986</td>\n",
       "      <td>37.778835</td>\n",
       "      <td>5</td>\n",
       "      <td>19</td>\n",
       "      <td>2015</td>\n",
       "    </tr>\n",
       "    <tr>\n",
       "      <th>29</th>\n",
       "      <td>LARCENY/THEFT</td>\n",
       "      <td>174900</td>\n",
       "      <td>2015-05-13 19:00:00</td>\n",
       "      <td>GRAND THEFT FROM LOCKED AUTO</td>\n",
       "      <td>Wednesday</td>\n",
       "      <td>SOUTHERN</td>\n",
       "      <td>NONE</td>\n",
       "      <td>400 Block of BRANNAN ST</td>\n",
       "      <td>-122.395986</td>\n",
       "      <td>37.778835</td>\n",
       "      <td>5</td>\n",
       "      <td>19</td>\n",
       "      <td>2015</td>\n",
       "    </tr>\n",
       "    <tr>\n",
       "      <th>...</th>\n",
       "      <td>...</td>\n",
       "      <td>...</td>\n",
       "      <td>...</td>\n",
       "      <td>...</td>\n",
       "      <td>...</td>\n",
       "      <td>...</td>\n",
       "      <td>...</td>\n",
       "      <td>...</td>\n",
       "      <td>...</td>\n",
       "      <td>...</td>\n",
       "      <td>...</td>\n",
       "      <td>...</td>\n",
       "      <td>...</td>\n",
       "    </tr>\n",
       "    <tr>\n",
       "      <th>404223</th>\n",
       "      <td>VANDALISM</td>\n",
       "      <td>44725</td>\n",
       "      <td>2003-01-07 17:08:00</td>\n",
       "      <td>MALICIOUS MISCHIEF, VANDALISM</td>\n",
       "      <td>Tuesday</td>\n",
       "      <td>BAYVIEW</td>\n",
       "      <td>NONE</td>\n",
       "      <td>6200 Block of 3RD ST</td>\n",
       "      <td>-122.395990</td>\n",
       "      <td>37.721313</td>\n",
       "      <td>1</td>\n",
       "      <td>17</td>\n",
       "      <td>2003</td>\n",
       "    </tr>\n",
       "    <tr>\n",
       "      <th>404224</th>\n",
       "      <td>VANDALISM</td>\n",
       "      <td>44725</td>\n",
       "      <td>2003-01-07 14:55:00</td>\n",
       "      <td>MALICIOUS MISCHIEF, VANDALISM OF VEHICLES</td>\n",
       "      <td>Tuesday</td>\n",
       "      <td>TENDERLOIN</td>\n",
       "      <td>NONE</td>\n",
       "      <td>TURK ST / HYDE ST</td>\n",
       "      <td>-122.415695</td>\n",
       "      <td>37.782585</td>\n",
       "      <td>1</td>\n",
       "      <td>14</td>\n",
       "      <td>2003</td>\n",
       "    </tr>\n",
       "    <tr>\n",
       "      <th>404225</th>\n",
       "      <td>VANDALISM</td>\n",
       "      <td>44725</td>\n",
       "      <td>2003-01-07 11:05:00</td>\n",
       "      <td>MALICIOUS MISCHIEF, VANDALISM OF VEHICLES</td>\n",
       "      <td>Tuesday</td>\n",
       "      <td>RICHMOND</td>\n",
       "      <td>NONE</td>\n",
       "      <td>BALBOA ST / 18TH AV</td>\n",
       "      <td>-122.476964</td>\n",
       "      <td>37.776643</td>\n",
       "      <td>1</td>\n",
       "      <td>11</td>\n",
       "      <td>2003</td>\n",
       "    </tr>\n",
       "    <tr>\n",
       "      <th>404226</th>\n",
       "      <td>VANDALISM</td>\n",
       "      <td>44725</td>\n",
       "      <td>2003-01-07 08:30:00</td>\n",
       "      <td>MALICIOUS MISCHIEF, VANDALISM OF VEHICLES</td>\n",
       "      <td>Tuesday</td>\n",
       "      <td>SOUTHERN</td>\n",
       "      <td>NONE</td>\n",
       "      <td>2ND ST / HARRISON ST</td>\n",
       "      <td>-122.395163</td>\n",
       "      <td>37.784310</td>\n",
       "      <td>1</td>\n",
       "      <td>8</td>\n",
       "      <td>2003</td>\n",
       "    </tr>\n",
       "    <tr>\n",
       "      <th>404227</th>\n",
       "      <td>VANDALISM</td>\n",
       "      <td>44725</td>\n",
       "      <td>2003-01-07 08:23:00</td>\n",
       "      <td>MALICIOUS MISCHIEF, VANDALISM</td>\n",
       "      <td>Tuesday</td>\n",
       "      <td>BAYVIEW</td>\n",
       "      <td>ARREST, BOOKED</td>\n",
       "      <td>0 Block of MABREY CT</td>\n",
       "      <td>-122.385538</td>\n",
       "      <td>37.735815</td>\n",
       "      <td>1</td>\n",
       "      <td>8</td>\n",
       "      <td>2003</td>\n",
       "    </tr>\n",
       "    <tr>\n",
       "      <th>404228</th>\n",
       "      <td>VANDALISM</td>\n",
       "      <td>44725</td>\n",
       "      <td>2003-01-07 06:30:00</td>\n",
       "      <td>MALICIOUS MISCHIEF, VANDALISM</td>\n",
       "      <td>Tuesday</td>\n",
       "      <td>NORTHERN</td>\n",
       "      <td>NONE</td>\n",
       "      <td>100 Block of MOULTON ST</td>\n",
       "      <td>-122.435145</td>\n",
       "      <td>37.799467</td>\n",
       "      <td>1</td>\n",
       "      <td>6</td>\n",
       "      <td>2003</td>\n",
       "    </tr>\n",
       "    <tr>\n",
       "      <th>404229</th>\n",
       "      <td>VANDALISM</td>\n",
       "      <td>44725</td>\n",
       "      <td>2003-01-07 05:30:00</td>\n",
       "      <td>MALICIOUS MISCHIEF, VANDALISM</td>\n",
       "      <td>Tuesday</td>\n",
       "      <td>BAYVIEW</td>\n",
       "      <td>NONE</td>\n",
       "      <td>700 Block of CAROLINA ST</td>\n",
       "      <td>-122.399963</td>\n",
       "      <td>37.758660</td>\n",
       "      <td>1</td>\n",
       "      <td>5</td>\n",
       "      <td>2003</td>\n",
       "    </tr>\n",
       "    <tr>\n",
       "      <th>404230</th>\n",
       "      <td>VANDALISM</td>\n",
       "      <td>44725</td>\n",
       "      <td>2003-01-07 03:38:00</td>\n",
       "      <td>MALICIOUS MISCHIEF, VANDALISM</td>\n",
       "      <td>Tuesday</td>\n",
       "      <td>MISSION</td>\n",
       "      <td>NONE</td>\n",
       "      <td>2600 Block of MISSION ST</td>\n",
       "      <td>-122.418738</td>\n",
       "      <td>37.754617</td>\n",
       "      <td>1</td>\n",
       "      <td>3</td>\n",
       "      <td>2003</td>\n",
       "    </tr>\n",
       "    <tr>\n",
       "      <th>404231</th>\n",
       "      <td>VANDALISM</td>\n",
       "      <td>44725</td>\n",
       "      <td>2003-01-07 03:38:00</td>\n",
       "      <td>MALICIOUS MISCHIEF, VANDALISM</td>\n",
       "      <td>Tuesday</td>\n",
       "      <td>MISSION</td>\n",
       "      <td>NONE</td>\n",
       "      <td>2400 Block of MISSION ST</td>\n",
       "      <td>-122.419025</td>\n",
       "      <td>37.757613</td>\n",
       "      <td>1</td>\n",
       "      <td>3</td>\n",
       "      <td>2003</td>\n",
       "    </tr>\n",
       "    <tr>\n",
       "      <th>404232</th>\n",
       "      <td>VANDALISM</td>\n",
       "      <td>44725</td>\n",
       "      <td>2003-01-07 03:36:00</td>\n",
       "      <td>MALICIOUS MISCHIEF, VANDALISM</td>\n",
       "      <td>Tuesday</td>\n",
       "      <td>MISSION</td>\n",
       "      <td>NONE</td>\n",
       "      <td>3300 Block of 24TH ST</td>\n",
       "      <td>-122.418761</td>\n",
       "      <td>37.752275</td>\n",
       "      <td>1</td>\n",
       "      <td>3</td>\n",
       "      <td>2003</td>\n",
       "    </tr>\n",
       "    <tr>\n",
       "      <th>404233</th>\n",
       "      <td>VANDALISM</td>\n",
       "      <td>44725</td>\n",
       "      <td>2003-01-07 03:36:00</td>\n",
       "      <td>MALICIOUS MISCHIEF, VANDALISM</td>\n",
       "      <td>Tuesday</td>\n",
       "      <td>MISSION</td>\n",
       "      <td>ARREST, BOOKED</td>\n",
       "      <td>2700 Block of MISSION ST</td>\n",
       "      <td>-122.418587</td>\n",
       "      <td>37.753019</td>\n",
       "      <td>1</td>\n",
       "      <td>3</td>\n",
       "      <td>2003</td>\n",
       "    </tr>\n",
       "    <tr>\n",
       "      <th>404234</th>\n",
       "      <td>VANDALISM</td>\n",
       "      <td>44725</td>\n",
       "      <td>2003-01-07 02:32:00</td>\n",
       "      <td>MALICIOUS MISCHIEF, BREAKING WINDOWS</td>\n",
       "      <td>Tuesday</td>\n",
       "      <td>INGLESIDE</td>\n",
       "      <td>NONE</td>\n",
       "      <td>100 Block of COLERIDGE ST</td>\n",
       "      <td>-122.420001</td>\n",
       "      <td>37.743395</td>\n",
       "      <td>1</td>\n",
       "      <td>2</td>\n",
       "      <td>2003</td>\n",
       "    </tr>\n",
       "    <tr>\n",
       "      <th>404235</th>\n",
       "      <td>VANDALISM</td>\n",
       "      <td>44725</td>\n",
       "      <td>2003-01-06 22:00:00</td>\n",
       "      <td>MALICIOUS MISCHIEF, VANDALISM</td>\n",
       "      <td>Monday</td>\n",
       "      <td>NORTHERN</td>\n",
       "      <td>NONE</td>\n",
       "      <td>2300 Block of PACIFIC AV</td>\n",
       "      <td>-122.433916</td>\n",
       "      <td>37.793396</td>\n",
       "      <td>1</td>\n",
       "      <td>22</td>\n",
       "      <td>2003</td>\n",
       "    </tr>\n",
       "    <tr>\n",
       "      <th>404236</th>\n",
       "      <td>VANDALISM</td>\n",
       "      <td>44725</td>\n",
       "      <td>2003-01-06 21:00:00</td>\n",
       "      <td>MALICIOUS MISCHIEF, VANDALISM OF VEHICLES</td>\n",
       "      <td>Monday</td>\n",
       "      <td>RICHMOND</td>\n",
       "      <td>NONE</td>\n",
       "      <td>22ND AV / BALBOA ST</td>\n",
       "      <td>-122.481246</td>\n",
       "      <td>37.776447</td>\n",
       "      <td>1</td>\n",
       "      <td>21</td>\n",
       "      <td>2003</td>\n",
       "    </tr>\n",
       "    <tr>\n",
       "      <th>404237</th>\n",
       "      <td>VANDALISM</td>\n",
       "      <td>44725</td>\n",
       "      <td>2003-01-06 20:30:00</td>\n",
       "      <td>MALICIOUS MISCHIEF, VANDALISM OF VEHICLES</td>\n",
       "      <td>Monday</td>\n",
       "      <td>SOUTHERN</td>\n",
       "      <td>NONE</td>\n",
       "      <td>700 Block of BRYANT ST</td>\n",
       "      <td>-122.401767</td>\n",
       "      <td>37.776715</td>\n",
       "      <td>1</td>\n",
       "      <td>20</td>\n",
       "      <td>2003</td>\n",
       "    </tr>\n",
       "    <tr>\n",
       "      <th>404238</th>\n",
       "      <td>VANDALISM</td>\n",
       "      <td>44725</td>\n",
       "      <td>2003-01-06 19:15:00</td>\n",
       "      <td>MALICIOUS MISCHIEF, VANDALISM OF VEHICLES</td>\n",
       "      <td>Monday</td>\n",
       "      <td>CENTRAL</td>\n",
       "      <td>NONE</td>\n",
       "      <td>500 Block of DAVIS ST</td>\n",
       "      <td>-122.398448</td>\n",
       "      <td>37.798004</td>\n",
       "      <td>1</td>\n",
       "      <td>19</td>\n",
       "      <td>2003</td>\n",
       "    </tr>\n",
       "    <tr>\n",
       "      <th>404239</th>\n",
       "      <td>VANDALISM</td>\n",
       "      <td>44725</td>\n",
       "      <td>2003-01-06 19:11:00</td>\n",
       "      <td>MALICIOUS MISCHIEF, VANDALISM</td>\n",
       "      <td>Monday</td>\n",
       "      <td>SOUTHERN</td>\n",
       "      <td>NONE</td>\n",
       "      <td>100 Block of THE EMBARCADERO SOUTH ST</td>\n",
       "      <td>-122.394670</td>\n",
       "      <td>37.795331</td>\n",
       "      <td>1</td>\n",
       "      <td>19</td>\n",
       "      <td>2003</td>\n",
       "    </tr>\n",
       "    <tr>\n",
       "      <th>404240</th>\n",
       "      <td>VANDALISM</td>\n",
       "      <td>44725</td>\n",
       "      <td>2003-01-06 18:30:00</td>\n",
       "      <td>MALICIOUS MISCHIEF, VANDALISM OF VEHICLES</td>\n",
       "      <td>Monday</td>\n",
       "      <td>PARK</td>\n",
       "      <td>NONE</td>\n",
       "      <td>GROVE ST / MASONIC AV</td>\n",
       "      <td>-122.446286</td>\n",
       "      <td>37.774871</td>\n",
       "      <td>1</td>\n",
       "      <td>18</td>\n",
       "      <td>2003</td>\n",
       "    </tr>\n",
       "    <tr>\n",
       "      <th>404241</th>\n",
       "      <td>VANDALISM</td>\n",
       "      <td>44725</td>\n",
       "      <td>2003-01-06 18:30:00</td>\n",
       "      <td>MALICIOUS MISCHIEF, VANDALISM OF VEHICLES</td>\n",
       "      <td>Monday</td>\n",
       "      <td>INGLESIDE</td>\n",
       "      <td>NONE</td>\n",
       "      <td>HARKNESS AV / SAN BRUNO AV</td>\n",
       "      <td>-122.400134</td>\n",
       "      <td>37.717908</td>\n",
       "      <td>1</td>\n",
       "      <td>18</td>\n",
       "      <td>2003</td>\n",
       "    </tr>\n",
       "    <tr>\n",
       "      <th>404242</th>\n",
       "      <td>VANDALISM</td>\n",
       "      <td>44725</td>\n",
       "      <td>2003-01-06 17:15:00</td>\n",
       "      <td>MALICIOUS MISCHIEF, VANDALISM</td>\n",
       "      <td>Monday</td>\n",
       "      <td>CENTRAL</td>\n",
       "      <td>ARREST, BOOKED</td>\n",
       "      <td>0 Block of GEARY ST</td>\n",
       "      <td>-122.404278</td>\n",
       "      <td>37.787919</td>\n",
       "      <td>1</td>\n",
       "      <td>17</td>\n",
       "      <td>2003</td>\n",
       "    </tr>\n",
       "    <tr>\n",
       "      <th>404243</th>\n",
       "      <td>VANDALISM</td>\n",
       "      <td>44725</td>\n",
       "      <td>2003-01-06 16:30:00</td>\n",
       "      <td>MALICIOUS MISCHIEF, VANDALISM OF VEHICLES</td>\n",
       "      <td>Monday</td>\n",
       "      <td>INGLESIDE</td>\n",
       "      <td>NONE</td>\n",
       "      <td>300 Block of HARKNESS AV</td>\n",
       "      <td>-122.404191</td>\n",
       "      <td>37.717660</td>\n",
       "      <td>1</td>\n",
       "      <td>16</td>\n",
       "      <td>2003</td>\n",
       "    </tr>\n",
       "    <tr>\n",
       "      <th>404244</th>\n",
       "      <td>VANDALISM</td>\n",
       "      <td>44725</td>\n",
       "      <td>2003-01-06 13:30:00</td>\n",
       "      <td>MALICIOUS MISCHIEF, VANDALISM</td>\n",
       "      <td>Monday</td>\n",
       "      <td>NORTHERN</td>\n",
       "      <td>NONE</td>\n",
       "      <td>1700 Block of VAN NESS AV</td>\n",
       "      <td>-122.422436</td>\n",
       "      <td>37.791763</td>\n",
       "      <td>1</td>\n",
       "      <td>13</td>\n",
       "      <td>2003</td>\n",
       "    </tr>\n",
       "    <tr>\n",
       "      <th>404245</th>\n",
       "      <td>VANDALISM</td>\n",
       "      <td>44725</td>\n",
       "      <td>2003-01-06 11:00:00</td>\n",
       "      <td>MALICIOUS MISCHIEF, VANDALISM</td>\n",
       "      <td>Monday</td>\n",
       "      <td>MISSION</td>\n",
       "      <td>NONE</td>\n",
       "      <td>1300 Block of VALENCIA ST</td>\n",
       "      <td>-122.420653</td>\n",
       "      <td>37.751285</td>\n",
       "      <td>1</td>\n",
       "      <td>11</td>\n",
       "      <td>2003</td>\n",
       "    </tr>\n",
       "    <tr>\n",
       "      <th>404246</th>\n",
       "      <td>VANDALISM</td>\n",
       "      <td>44725</td>\n",
       "      <td>2003-01-06 05:40:00</td>\n",
       "      <td>MALICIOUS MISCHIEF, VANDALISM</td>\n",
       "      <td>Monday</td>\n",
       "      <td>SOUTHERN</td>\n",
       "      <td>ARREST, BOOKED</td>\n",
       "      <td>0 Block of UNITED NATIONS PZ</td>\n",
       "      <td>-122.414318</td>\n",
       "      <td>37.779944</td>\n",
       "      <td>1</td>\n",
       "      <td>5</td>\n",
       "      <td>2003</td>\n",
       "    </tr>\n",
       "    <tr>\n",
       "      <th>404247</th>\n",
       "      <td>VANDALISM</td>\n",
       "      <td>44725</td>\n",
       "      <td>2003-01-06 05:00:00</td>\n",
       "      <td>MALICIOUS MISCHIEF, VANDALISM</td>\n",
       "      <td>Monday</td>\n",
       "      <td>NORTHERN</td>\n",
       "      <td>NONE</td>\n",
       "      <td>1100 Block of ELLIS ST</td>\n",
       "      <td>-122.425944</td>\n",
       "      <td>37.783137</td>\n",
       "      <td>1</td>\n",
       "      <td>5</td>\n",
       "      <td>2003</td>\n",
       "    </tr>\n",
       "    <tr>\n",
       "      <th>404248</th>\n",
       "      <td>VANDALISM</td>\n",
       "      <td>44725</td>\n",
       "      <td>2003-01-06 03:15:00</td>\n",
       "      <td>MALICIOUS MISCHIEF, VANDALISM OF VEHICLES</td>\n",
       "      <td>Monday</td>\n",
       "      <td>BAYVIEW</td>\n",
       "      <td>NONE</td>\n",
       "      <td>23RD ST / WISCONSIN ST</td>\n",
       "      <td>-122.398696</td>\n",
       "      <td>37.754746</td>\n",
       "      <td>1</td>\n",
       "      <td>3</td>\n",
       "      <td>2003</td>\n",
       "    </tr>\n",
       "    <tr>\n",
       "      <th>404249</th>\n",
       "      <td>VANDALISM</td>\n",
       "      <td>44725</td>\n",
       "      <td>2003-01-06 02:24:00</td>\n",
       "      <td>MALICIOUS MISCHIEF</td>\n",
       "      <td>Monday</td>\n",
       "      <td>NORTHERN</td>\n",
       "      <td>NOT PROSECUTED</td>\n",
       "      <td>SANCHEZ ST / 14TH ST</td>\n",
       "      <td>-122.431191</td>\n",
       "      <td>37.767595</td>\n",
       "      <td>1</td>\n",
       "      <td>2</td>\n",
       "      <td>2003</td>\n",
       "    </tr>\n",
       "    <tr>\n",
       "      <th>404250</th>\n",
       "      <td>VANDALISM</td>\n",
       "      <td>44725</td>\n",
       "      <td>2003-01-06 01:30:00</td>\n",
       "      <td>MALICIOUS MISCHIEF, VANDALISM</td>\n",
       "      <td>Monday</td>\n",
       "      <td>RICHMOND</td>\n",
       "      <td>ARREST, CITED</td>\n",
       "      <td>1000 Block of 22ND AV</td>\n",
       "      <td>-122.391668</td>\n",
       "      <td>37.757793</td>\n",
       "      <td>1</td>\n",
       "      <td>1</td>\n",
       "      <td>2003</td>\n",
       "    </tr>\n",
       "    <tr>\n",
       "      <th>404251</th>\n",
       "      <td>VANDALISM</td>\n",
       "      <td>44725</td>\n",
       "      <td>2003-01-06 00:55:00</td>\n",
       "      <td>MALICIOUS MISCHIEF, VANDALISM</td>\n",
       "      <td>Monday</td>\n",
       "      <td>NORTHERN</td>\n",
       "      <td>NONE</td>\n",
       "      <td>1300 Block of WEBSTER ST</td>\n",
       "      <td>-122.431046</td>\n",
       "      <td>37.783030</td>\n",
       "      <td>1</td>\n",
       "      <td>0</td>\n",
       "      <td>2003</td>\n",
       "    </tr>\n",
       "    <tr>\n",
       "      <th>404252</th>\n",
       "      <td>VANDALISM</td>\n",
       "      <td>44725</td>\n",
       "      <td>2003-01-06 00:01:00</td>\n",
       "      <td>MALICIOUS MISCHIEF, VANDALISM OF VEHICLES</td>\n",
       "      <td>Monday</td>\n",
       "      <td>SOUTHERN</td>\n",
       "      <td>NONE</td>\n",
       "      <td>TOWNSEND ST / 2ND ST</td>\n",
       "      <td>-122.390531</td>\n",
       "      <td>37.780607</td>\n",
       "      <td>1</td>\n",
       "      <td>0</td>\n",
       "      <td>2003</td>\n",
       "    </tr>\n",
       "  </tbody>\n",
       "</table>\n",
       "<p>404253 rows × 13 columns</p>\n",
       "</div>"
      ],
      "text/plain": [
       "             Category  frequency                Dates  \\\n",
       "0       LARCENY/THEFT     174900  2015-05-13 23:30:00   \n",
       "1       LARCENY/THEFT     174900  2015-05-13 23:30:00   \n",
       "2       LARCENY/THEFT     174900  2015-05-13 23:30:00   \n",
       "3       LARCENY/THEFT     174900  2015-05-13 23:00:00   \n",
       "4       LARCENY/THEFT     174900  2015-05-13 23:00:00   \n",
       "5       LARCENY/THEFT     174900  2015-05-13 22:58:00   \n",
       "6       LARCENY/THEFT     174900  2015-05-13 22:06:00   \n",
       "7       LARCENY/THEFT     174900  2015-05-13 21:30:00   \n",
       "8       LARCENY/THEFT     174900  2015-05-13 21:10:00   \n",
       "9       LARCENY/THEFT     174900  2015-05-13 21:00:00   \n",
       "10      LARCENY/THEFT     174900  2015-05-13 21:00:00   \n",
       "11      LARCENY/THEFT     174900  2015-05-13 21:00:00   \n",
       "12      LARCENY/THEFT     174900  2015-05-13 20:54:00   \n",
       "13      LARCENY/THEFT     174900  2015-05-13 20:30:00   \n",
       "14      LARCENY/THEFT     174900  2015-05-13 20:30:00   \n",
       "15      LARCENY/THEFT     174900  2015-05-13 20:30:00   \n",
       "16      LARCENY/THEFT     174900  2015-05-13 20:30:00   \n",
       "17      LARCENY/THEFT     174900  2015-05-13 20:15:00   \n",
       "18      LARCENY/THEFT     174900  2015-05-13 20:15:00   \n",
       "19      LARCENY/THEFT     174900  2015-05-13 20:00:00   \n",
       "20      LARCENY/THEFT     174900  2015-05-13 19:30:00   \n",
       "21      LARCENY/THEFT     174900  2015-05-13 19:30:00   \n",
       "22      LARCENY/THEFT     174900  2015-05-13 19:30:00   \n",
       "23      LARCENY/THEFT     174900  2015-05-13 19:30:00   \n",
       "24      LARCENY/THEFT     174900  2015-05-13 19:30:00   \n",
       "25      LARCENY/THEFT     174900  2015-05-13 19:30:00   \n",
       "26      LARCENY/THEFT     174900  2015-05-13 19:15:00   \n",
       "27      LARCENY/THEFT     174900  2015-05-13 19:15:00   \n",
       "28      LARCENY/THEFT     174900  2015-05-13 19:11:00   \n",
       "29      LARCENY/THEFT     174900  2015-05-13 19:00:00   \n",
       "...               ...        ...                  ...   \n",
       "404223      VANDALISM      44725  2003-01-07 17:08:00   \n",
       "404224      VANDALISM      44725  2003-01-07 14:55:00   \n",
       "404225      VANDALISM      44725  2003-01-07 11:05:00   \n",
       "404226      VANDALISM      44725  2003-01-07 08:30:00   \n",
       "404227      VANDALISM      44725  2003-01-07 08:23:00   \n",
       "404228      VANDALISM      44725  2003-01-07 06:30:00   \n",
       "404229      VANDALISM      44725  2003-01-07 05:30:00   \n",
       "404230      VANDALISM      44725  2003-01-07 03:38:00   \n",
       "404231      VANDALISM      44725  2003-01-07 03:38:00   \n",
       "404232      VANDALISM      44725  2003-01-07 03:36:00   \n",
       "404233      VANDALISM      44725  2003-01-07 03:36:00   \n",
       "404234      VANDALISM      44725  2003-01-07 02:32:00   \n",
       "404235      VANDALISM      44725  2003-01-06 22:00:00   \n",
       "404236      VANDALISM      44725  2003-01-06 21:00:00   \n",
       "404237      VANDALISM      44725  2003-01-06 20:30:00   \n",
       "404238      VANDALISM      44725  2003-01-06 19:15:00   \n",
       "404239      VANDALISM      44725  2003-01-06 19:11:00   \n",
       "404240      VANDALISM      44725  2003-01-06 18:30:00   \n",
       "404241      VANDALISM      44725  2003-01-06 18:30:00   \n",
       "404242      VANDALISM      44725  2003-01-06 17:15:00   \n",
       "404243      VANDALISM      44725  2003-01-06 16:30:00   \n",
       "404244      VANDALISM      44725  2003-01-06 13:30:00   \n",
       "404245      VANDALISM      44725  2003-01-06 11:00:00   \n",
       "404246      VANDALISM      44725  2003-01-06 05:40:00   \n",
       "404247      VANDALISM      44725  2003-01-06 05:00:00   \n",
       "404248      VANDALISM      44725  2003-01-06 03:15:00   \n",
       "404249      VANDALISM      44725  2003-01-06 02:24:00   \n",
       "404250      VANDALISM      44725  2003-01-06 01:30:00   \n",
       "404251      VANDALISM      44725  2003-01-06 00:55:00   \n",
       "404252      VANDALISM      44725  2003-01-06 00:01:00   \n",
       "\n",
       "                                         Descript  DayOfWeek  PdDistrict  \\\n",
       "0                    GRAND THEFT FROM LOCKED AUTO  Wednesday    NORTHERN   \n",
       "1                    GRAND THEFT FROM LOCKED AUTO  Wednesday        PARK   \n",
       "2                  GRAND THEFT FROM UNLOCKED AUTO  Wednesday   INGLESIDE   \n",
       "3                    GRAND THEFT FROM LOCKED AUTO  Wednesday    RICHMOND   \n",
       "4                    GRAND THEFT FROM LOCKED AUTO  Wednesday     CENTRAL   \n",
       "5                    PETTY THEFT FROM LOCKED AUTO  Wednesday     CENTRAL   \n",
       "6                    GRAND THEFT FROM LOCKED AUTO  Wednesday    NORTHERN   \n",
       "7                    GRAND THEFT FROM LOCKED AUTO  Wednesday   INGLESIDE   \n",
       "8                    GRAND THEFT FROM LOCKED AUTO  Wednesday    NORTHERN   \n",
       "9                    GRAND THEFT FROM LOCKED AUTO  Wednesday    NORTHERN   \n",
       "10                   GRAND THEFT FROM LOCKED AUTO  Wednesday   INGLESIDE   \n",
       "11            ATTEMPTED THEFT FROM LOCKED VEHICLE  Wednesday     TARAVAL   \n",
       "12                   GRAND THEFT FROM LOCKED AUTO  Wednesday    NORTHERN   \n",
       "13                   GRAND THEFT FROM LOCKED AUTO  Wednesday    NORTHERN   \n",
       "14                   GRAND THEFT FROM LOCKED AUTO  Wednesday    SOUTHERN   \n",
       "15                   GRAND THEFT FROM LOCKED AUTO  Wednesday    NORTHERN   \n",
       "16                   GRAND THEFT FROM LOCKED AUTO  Wednesday    NORTHERN   \n",
       "17                   PETTY THEFT FROM LOCKED AUTO  Wednesday    SOUTHERN   \n",
       "18                        PETTY THEFT SHOPLIFTING  Wednesday  TENDERLOIN   \n",
       "19                        GRAND THEFT FROM PERSON  Wednesday     TARAVAL   \n",
       "20                    PETTY THEFT FROM A BUILDING  Wednesday    SOUTHERN   \n",
       "21                 GRAND THEFT FROM UNLOCKED AUTO  Wednesday    SOUTHERN   \n",
       "22                        GRAND THEFT FROM PERSON  Wednesday    SOUTHERN   \n",
       "23                        GRAND THEFT OF PROPERTY  Wednesday    NORTHERN   \n",
       "24                   GRAND THEFT FROM LOCKED AUTO  Wednesday    SOUTHERN   \n",
       "25                   GRAND THEFT FROM LOCKED AUTO  Wednesday    NORTHERN   \n",
       "26                   PETTY THEFT FROM LOCKED AUTO  Wednesday    SOUTHERN   \n",
       "27                 GRAND THEFT FROM UNLOCKED AUTO  Wednesday     TARAVAL   \n",
       "28                   GRAND THEFT FROM LOCKED AUTO  Wednesday    SOUTHERN   \n",
       "29                   GRAND THEFT FROM LOCKED AUTO  Wednesday    SOUTHERN   \n",
       "...                                           ...        ...         ...   \n",
       "404223              MALICIOUS MISCHIEF, VANDALISM    Tuesday     BAYVIEW   \n",
       "404224  MALICIOUS MISCHIEF, VANDALISM OF VEHICLES    Tuesday  TENDERLOIN   \n",
       "404225  MALICIOUS MISCHIEF, VANDALISM OF VEHICLES    Tuesday    RICHMOND   \n",
       "404226  MALICIOUS MISCHIEF, VANDALISM OF VEHICLES    Tuesday    SOUTHERN   \n",
       "404227              MALICIOUS MISCHIEF, VANDALISM    Tuesday     BAYVIEW   \n",
       "404228              MALICIOUS MISCHIEF, VANDALISM    Tuesday    NORTHERN   \n",
       "404229              MALICIOUS MISCHIEF, VANDALISM    Tuesday     BAYVIEW   \n",
       "404230              MALICIOUS MISCHIEF, VANDALISM    Tuesday     MISSION   \n",
       "404231              MALICIOUS MISCHIEF, VANDALISM    Tuesday     MISSION   \n",
       "404232              MALICIOUS MISCHIEF, VANDALISM    Tuesday     MISSION   \n",
       "404233              MALICIOUS MISCHIEF, VANDALISM    Tuesday     MISSION   \n",
       "404234       MALICIOUS MISCHIEF, BREAKING WINDOWS    Tuesday   INGLESIDE   \n",
       "404235              MALICIOUS MISCHIEF, VANDALISM     Monday    NORTHERN   \n",
       "404236  MALICIOUS MISCHIEF, VANDALISM OF VEHICLES     Monday    RICHMOND   \n",
       "404237  MALICIOUS MISCHIEF, VANDALISM OF VEHICLES     Monday    SOUTHERN   \n",
       "404238  MALICIOUS MISCHIEF, VANDALISM OF VEHICLES     Monday     CENTRAL   \n",
       "404239              MALICIOUS MISCHIEF, VANDALISM     Monday    SOUTHERN   \n",
       "404240  MALICIOUS MISCHIEF, VANDALISM OF VEHICLES     Monday        PARK   \n",
       "404241  MALICIOUS MISCHIEF, VANDALISM OF VEHICLES     Monday   INGLESIDE   \n",
       "404242              MALICIOUS MISCHIEF, VANDALISM     Monday     CENTRAL   \n",
       "404243  MALICIOUS MISCHIEF, VANDALISM OF VEHICLES     Monday   INGLESIDE   \n",
       "404244              MALICIOUS MISCHIEF, VANDALISM     Monday    NORTHERN   \n",
       "404245              MALICIOUS MISCHIEF, VANDALISM     Monday     MISSION   \n",
       "404246              MALICIOUS MISCHIEF, VANDALISM     Monday    SOUTHERN   \n",
       "404247              MALICIOUS MISCHIEF, VANDALISM     Monday    NORTHERN   \n",
       "404248  MALICIOUS MISCHIEF, VANDALISM OF VEHICLES     Monday     BAYVIEW   \n",
       "404249                         MALICIOUS MISCHIEF     Monday    NORTHERN   \n",
       "404250              MALICIOUS MISCHIEF, VANDALISM     Monday    RICHMOND   \n",
       "404251              MALICIOUS MISCHIEF, VANDALISM     Monday    NORTHERN   \n",
       "404252  MALICIOUS MISCHIEF, VANDALISM OF VEHICLES     Monday    SOUTHERN   \n",
       "\n",
       "            Resolution                                Address           X  \\\n",
       "0                 NONE               1500 Block of LOMBARD ST -122.426995   \n",
       "1                 NONE              100 Block of BRODERICK ST -122.438738   \n",
       "2                 NONE                    0 Block of TEDDY AV -122.403252   \n",
       "3                 NONE                   600 Block of 47TH AV -122.508194   \n",
       "4                 NONE          JEFFERSON ST / LEAVENWORTH ST -122.419088   \n",
       "5                 NONE          JEFFERSON ST / LEAVENWORTH ST -122.419088   \n",
       "6                 NONE                 FILLMORE ST / GEARY BL -122.432915   \n",
       "7                 NONE                 200 Block of EVELYN WY -122.449389   \n",
       "8                 NONE               FILLMORE ST / LOMBARD ST -122.436049   \n",
       "9                 NONE                  2000 Block of BUSH ST -122.431018   \n",
       "10                NONE                500 Block of COLLEGE AV -122.423656   \n",
       "11                NONE                  19TH AV / SANTIAGO ST -122.475773   \n",
       "12                NONE               1300 Block of WEBSTER ST -122.431046   \n",
       "13                NONE               1600 Block of WEBSTER ST -122.431310   \n",
       "14                NONE                       KING ST / 3RD ST -122.391846   \n",
       "15                NONE               VALLEJO ST / BUCHANAN ST -122.431831   \n",
       "16                NONE            CALIFORNIA ST / BUCHANAN ST -122.430552   \n",
       "17                NONE                1600 Block of MARKET ST -122.422128   \n",
       "18                NONE                 0 Block of STOCKTON ST -122.406352   \n",
       "19                NONE                   LINCOLN WY / 14TH AV -122.471800   \n",
       "20                NONE                      0 Block of 3RD ST -122.403285   \n",
       "21                NONE                500 Block of BRANNAN ST -122.397616   \n",
       "22                NONE                    MISSION ST / 2ND ST -122.399802   \n",
       "23                NONE                  GEARY ST / VANNESS AV -122.421396   \n",
       "24                NONE                  HARRISON ST / 10TH ST -122.411279   \n",
       "25                NONE                   GEARY BL / LAGUNA ST -122.427991   \n",
       "26                NONE                   300 Block of 10TH ST -122.411637   \n",
       "27                NONE                   19TH AV / WINSTON DR -122.474899   \n",
       "28                NONE                400 Block of BRANNAN ST -122.395986   \n",
       "29                NONE                400 Block of BRANNAN ST -122.395986   \n",
       "...                ...                                    ...         ...   \n",
       "404223            NONE                   6200 Block of 3RD ST -122.395990   \n",
       "404224            NONE                      TURK ST / HYDE ST -122.415695   \n",
       "404225            NONE                    BALBOA ST / 18TH AV -122.476964   \n",
       "404226            NONE                   2ND ST / HARRISON ST -122.395163   \n",
       "404227  ARREST, BOOKED                   0 Block of MABREY CT -122.385538   \n",
       "404228            NONE                100 Block of MOULTON ST -122.435145   \n",
       "404229            NONE               700 Block of CAROLINA ST -122.399963   \n",
       "404230            NONE               2600 Block of MISSION ST -122.418738   \n",
       "404231            NONE               2400 Block of MISSION ST -122.419025   \n",
       "404232            NONE                  3300 Block of 24TH ST -122.418761   \n",
       "404233  ARREST, BOOKED               2700 Block of MISSION ST -122.418587   \n",
       "404234            NONE              100 Block of COLERIDGE ST -122.420001   \n",
       "404235            NONE               2300 Block of PACIFIC AV -122.433916   \n",
       "404236            NONE                    22ND AV / BALBOA ST -122.481246   \n",
       "404237            NONE                 700 Block of BRYANT ST -122.401767   \n",
       "404238            NONE                  500 Block of DAVIS ST -122.398448   \n",
       "404239            NONE  100 Block of THE EMBARCADERO SOUTH ST -122.394670   \n",
       "404240            NONE                  GROVE ST / MASONIC AV -122.446286   \n",
       "404241            NONE             HARKNESS AV / SAN BRUNO AV -122.400134   \n",
       "404242  ARREST, BOOKED                    0 Block of GEARY ST -122.404278   \n",
       "404243            NONE               300 Block of HARKNESS AV -122.404191   \n",
       "404244            NONE              1700 Block of VAN NESS AV -122.422436   \n",
       "404245            NONE              1300 Block of VALENCIA ST -122.420653   \n",
       "404246  ARREST, BOOKED           0 Block of UNITED NATIONS PZ -122.414318   \n",
       "404247            NONE                 1100 Block of ELLIS ST -122.425944   \n",
       "404248            NONE                 23RD ST / WISCONSIN ST -122.398696   \n",
       "404249  NOT PROSECUTED                   SANCHEZ ST / 14TH ST -122.431191   \n",
       "404250   ARREST, CITED                  1000 Block of 22ND AV -122.391668   \n",
       "404251            NONE               1300 Block of WEBSTER ST -122.431046   \n",
       "404252            NONE                   TOWNSEND ST / 2ND ST -122.390531   \n",
       "\n",
       "                Y  month  hour  year  \n",
       "0       37.800873      5    23  2015  \n",
       "1       37.771541      5    23  2015  \n",
       "2       37.713431      5    23  2015  \n",
       "3       37.776601      5    23  2015  \n",
       "4       37.807802      5    23  2015  \n",
       "5       37.807802      5    22  2015  \n",
       "6       37.784353      5    22  2015  \n",
       "7       37.742669      5    21  2015  \n",
       "8       37.799841      5    21  2015  \n",
       "9       37.787388      5    21  2015  \n",
       "10      37.732556      5    21  2015  \n",
       "11      37.744919      5    21  2015  \n",
       "12      37.783030      5    20  2015  \n",
       "13      37.785871      5    20  2015  \n",
       "14      37.778125      5    20  2015  \n",
       "15      37.795642      5    20  2015  \n",
       "16      37.789323      5    20  2015  \n",
       "17      37.773033      5    20  2015  \n",
       "18      37.786031      5    20  2015  \n",
       "19      37.765687      5    20  2015  \n",
       "20      37.787306      5    19  2015  \n",
       "21      37.777392      5    19  2015  \n",
       "22      37.788007      5    19  2015  \n",
       "23      37.785684      5    19  2015  \n",
       "24      37.771579      5    19  2015  \n",
       "25      37.784953      5    19  2015  \n",
       "26      37.771787      5    19  2015  \n",
       "27      37.726991      5    19  2015  \n",
       "28      37.778835      5    19  2015  \n",
       "29      37.778835      5    19  2015  \n",
       "...           ...    ...   ...   ...  \n",
       "404223  37.721313      1    17  2003  \n",
       "404224  37.782585      1    14  2003  \n",
       "404225  37.776643      1    11  2003  \n",
       "404226  37.784310      1     8  2003  \n",
       "404227  37.735815      1     8  2003  \n",
       "404228  37.799467      1     6  2003  \n",
       "404229  37.758660      1     5  2003  \n",
       "404230  37.754617      1     3  2003  \n",
       "404231  37.757613      1     3  2003  \n",
       "404232  37.752275      1     3  2003  \n",
       "404233  37.753019      1     3  2003  \n",
       "404234  37.743395      1     2  2003  \n",
       "404235  37.793396      1    22  2003  \n",
       "404236  37.776447      1    21  2003  \n",
       "404237  37.776715      1    20  2003  \n",
       "404238  37.798004      1    19  2003  \n",
       "404239  37.795331      1    19  2003  \n",
       "404240  37.774871      1    18  2003  \n",
       "404241  37.717908      1    18  2003  \n",
       "404242  37.787919      1    17  2003  \n",
       "404243  37.717660      1    16  2003  \n",
       "404244  37.791763      1    13  2003  \n",
       "404245  37.751285      1    11  2003  \n",
       "404246  37.779944      1     5  2003  \n",
       "404247  37.783137      1     5  2003  \n",
       "404248  37.754746      1     3  2003  \n",
       "404249  37.767595      1     2  2003  \n",
       "404250  37.757793      1     1  2003  \n",
       "404251  37.783030      1     0  2003  \n",
       "404252  37.780607      1     0  2003  \n",
       "\n",
       "[404253 rows x 13 columns]"
      ]
     },
     "execution_count": 40,
     "metadata": {},
     "output_type": "execute_result"
    }
   ],
   "source": [
    "merged = pd.merge(crime_cat,train, on='Category', how='left')\n",
    "merged"
   ]
  },
  {
   "cell_type": "code",
   "execution_count": 41,
   "metadata": {
    "collapsed": false
   },
   "outputs": [
    {
     "data": {
      "text/plain": [
       "<matplotlib.axes._subplots.AxesSubplot at 0x10df1b278>"
      ]
     },
     "execution_count": 41,
     "metadata": {},
     "output_type": "execute_result"
    },
    {
     "data": {
      "image/png": "[encoded data removed]",
      "text/plain": [
       "<matplotlib.figure.Figure at 0x10deee8d0>"
      ]
     },
     "metadata": {},
     "output_type": "display_data"
    }
   ],
   "source": [
    "tmp=pd.DataFrame(merged.groupby(['PdDistrict','Category']).size(), columns=['count'])\n",
    "tmp.reset_index(inplace=True)\n",
    "tmp=tmp.pivot(index='PdDistrict',columns='Category',values='count')\n",
    "fig, axes = plt.subplots(1,1,figsize=(15,15))\n",
    "#colors = plt.cm.BuGn(np.linspace(0, 1,5))\n",
    "tmp.plot(ax=axes,kind='bar', stacked=True)"
   ]
  },
  {
   "cell_type": "markdown",
   "metadata": {},
   "source": [
    "From the above graph, we can see that that larceny comprises of majority of the crimes committed. However, the Tenderloin district is an exception where the drug/narcotic category is "
   ]
  },
  {
   "cell_type": "code",
   "execution_count": 42,
   "metadata": {
    "collapsed": false
   },
   "outputs": [
    {
     "data": {
      "text/html": [
       "<div>\n",
       "<table border=\"1\" class=\"dataframe\">\n",
       "  <thead>\n",
       "    <tr style=\"text-align: right;\">\n",
       "      <th></th>\n",
       "      <th>Dates</th>\n",
       "      <th>Category</th>\n",
       "      <th>Descript</th>\n",
       "      <th>DayOfWeek</th>\n",
       "      <th>PdDistrict</th>\n",
       "      <th>Resolution</th>\n",
       "      <th>Address</th>\n",
       "      <th>X</th>\n",
       "      <th>Y</th>\n",
       "      <th>month</th>\n",
       "      <th>hour</th>\n",
       "      <th>year</th>\n",
       "    </tr>\n",
       "  </thead>\n",
       "  <tbody>\n",
       "    <tr>\n",
       "      <th>49</th>\n",
       "      <td>2015-05-13 19:52:00</td>\n",
       "      <td>BURGLARY</td>\n",
       "      <td>BURGLARY, VEHICLE (ARREST MADE)</td>\n",
       "      <td>Wednesday</td>\n",
       "      <td>PARK</td>\n",
       "      <td>ARREST, BOOKED</td>\n",
       "      <td>1500 Block of HAIGHT ST</td>\n",
       "      <td>-122.447761</td>\n",
       "      <td>37.769846</td>\n",
       "      <td>5</td>\n",
       "      <td>19</td>\n",
       "      <td>2015</td>\n",
       "    </tr>\n",
       "    <tr>\n",
       "      <th>87</th>\n",
       "      <td>2015-05-13 18:30:00</td>\n",
       "      <td>BURGLARY</td>\n",
       "      <td>BURGLARY OF RESIDENCE, ATTEMPTED FORCIBLE ENTRY</td>\n",
       "      <td>Wednesday</td>\n",
       "      <td>BAYVIEW</td>\n",
       "      <td>NONE</td>\n",
       "      <td>1300 Block of FELTON ST</td>\n",
       "      <td>-122.417938</td>\n",
       "      <td>37.726605</td>\n",
       "      <td>5</td>\n",
       "      <td>18</td>\n",
       "      <td>2015</td>\n",
       "    </tr>\n",
       "    <tr>\n",
       "      <th>97</th>\n",
       "      <td>2015-05-13 18:00:00</td>\n",
       "      <td>BURGLARY</td>\n",
       "      <td>BURGLARY OF APARTMENT HOUSE, UNLAWFUL ENTRY</td>\n",
       "      <td>Wednesday</td>\n",
       "      <td>SOUTHERN</td>\n",
       "      <td>NONE</td>\n",
       "      <td>0 Block of 6TH ST</td>\n",
       "      <td>-122.409504</td>\n",
       "      <td>37.781526</td>\n",
       "      <td>5</td>\n",
       "      <td>18</td>\n",
       "      <td>2015</td>\n",
       "    </tr>\n",
       "    <tr>\n",
       "      <th>104</th>\n",
       "      <td>2015-05-13 17:55:00</td>\n",
       "      <td>BURGLARY</td>\n",
       "      <td>BURGLARY,STORE UNDER CONSTRUCTION, UNLAWFUL ENTRY</td>\n",
       "      <td>Wednesday</td>\n",
       "      <td>SOUTHERN</td>\n",
       "      <td>ARREST, BOOKED</td>\n",
       "      <td>1200 Block of MARKET ST</td>\n",
       "      <td>-122.415449</td>\n",
       "      <td>37.778294</td>\n",
       "      <td>5</td>\n",
       "      <td>17</td>\n",
       "      <td>2015</td>\n",
       "    </tr>\n",
       "    <tr>\n",
       "      <th>124</th>\n",
       "      <td>2015-05-13 17:20:00</td>\n",
       "      <td>BURGLARY</td>\n",
       "      <td>BURGLARY OF HOTEL ROOM, UNLAWFUL ENTRY</td>\n",
       "      <td>Wednesday</td>\n",
       "      <td>CENTRAL</td>\n",
       "      <td>NONE</td>\n",
       "      <td>600 Block of JONES ST</td>\n",
       "      <td>-122.413298</td>\n",
       "      <td>37.787058</td>\n",
       "      <td>5</td>\n",
       "      <td>17</td>\n",
       "      <td>2015</td>\n",
       "    </tr>\n",
       "  </tbody>\n",
       "</table>\n",
       "</div>"
      ],
      "text/plain": [
       "                   Dates  Category  \\\n",
       "49   2015-05-13 19:52:00  BURGLARY   \n",
       "87   2015-05-13 18:30:00  BURGLARY   \n",
       "97   2015-05-13 18:00:00  BURGLARY   \n",
       "104  2015-05-13 17:55:00  BURGLARY   \n",
       "124  2015-05-13 17:20:00  BURGLARY   \n",
       "\n",
       "                                              Descript  DayOfWeek PdDistrict  \\\n",
       "49                     BURGLARY, VEHICLE (ARREST MADE)  Wednesday       PARK   \n",
       "87     BURGLARY OF RESIDENCE, ATTEMPTED FORCIBLE ENTRY  Wednesday    BAYVIEW   \n",
       "97         BURGLARY OF APARTMENT HOUSE, UNLAWFUL ENTRY  Wednesday   SOUTHERN   \n",
       "104  BURGLARY,STORE UNDER CONSTRUCTION, UNLAWFUL ENTRY  Wednesday   SOUTHERN   \n",
       "124             BURGLARY OF HOTEL ROOM, UNLAWFUL ENTRY  Wednesday    CENTRAL   \n",
       "\n",
       "         Resolution                  Address           X          Y  month  \\\n",
       "49   ARREST, BOOKED  1500 Block of HAIGHT ST -122.447761  37.769846      5   \n",
       "87             NONE  1300 Block of FELTON ST -122.417938  37.726605      5   \n",
       "97             NONE        0 Block of 6TH ST -122.409504  37.781526      5   \n",
       "104  ARREST, BOOKED  1200 Block of MARKET ST -122.415449  37.778294      5   \n",
       "124            NONE    600 Block of JONES ST -122.413298  37.787058      5   \n",
       "\n",
       "     hour  year  \n",
       "49     19  2015  \n",
       "87     18  2015  \n",
       "97     18  2015  \n",
       "104    17  2015  \n",
       "124    17  2015  "
      ]
     },
     "execution_count": 42,
     "metadata": {},
     "output_type": "execute_result"
    }
   ],
   "source": [
    "train_burglary = train[train['Category']==\"BURGLARY\"]\n",
    "train_burglary.head()"
   ]
  },
  {
   "cell_type": "code",
   "execution_count": 43,
   "metadata": {
    "collapsed": true
   },
   "outputs": [],
   "source": [
    "weekdays = {'Monday':0., 'Tuesday':1., 'Wednesday':2., 'Thursday': 3., 'Friday':4., 'Saturday':5., 'Sunday':6.}"
   ]
  },
  {
   "cell_type": "code",
   "execution_count": 44,
   "metadata": {
    "collapsed": true
   },
   "outputs": [],
   "source": [
    "train['Day_Num'] = [int(weekdays[w]) for w in train.DayOfWeek]"
   ]
  },
  {
   "cell_type": "code",
   "execution_count": 45,
   "metadata": {
    "collapsed": false
   },
   "outputs": [
    {
     "data": {
      "text/html": [
       "<div>\n",
       "<table border=\"1\" class=\"dataframe\">\n",
       "  <thead>\n",
       "    <tr style=\"text-align: right;\">\n",
       "      <th></th>\n",
       "      <th>Dates</th>\n",
       "      <th>Category</th>\n",
       "      <th>Descript</th>\n",
       "      <th>DayOfWeek</th>\n",
       "      <th>PdDistrict</th>\n",
       "      <th>Resolution</th>\n",
       "      <th>Address</th>\n",
       "      <th>X</th>\n",
       "      <th>Y</th>\n",
       "      <th>month</th>\n",
       "      <th>hour</th>\n",
       "      <th>year</th>\n",
       "      <th>Day_Num</th>\n",
       "    </tr>\n",
       "  </thead>\n",
       "  <tbody>\n",
       "    <tr>\n",
       "      <th>0</th>\n",
       "      <td>2015-05-13 23:53:00</td>\n",
       "      <td>WARRANTS</td>\n",
       "      <td>WARRANT ARREST</td>\n",
       "      <td>Wednesday</td>\n",
       "      <td>NORTHERN</td>\n",
       "      <td>ARREST, BOOKED</td>\n",
       "      <td>OAK ST / LAGUNA ST</td>\n",
       "      <td>-122.425892</td>\n",
       "      <td>37.774599</td>\n",
       "      <td>5</td>\n",
       "      <td>23</td>\n",
       "      <td>2015</td>\n",
       "      <td>2</td>\n",
       "    </tr>\n",
       "    <tr>\n",
       "      <th>1</th>\n",
       "      <td>2015-05-13 23:53:00</td>\n",
       "      <td>OTHER OFFENSES</td>\n",
       "      <td>TRAFFIC VIOLATION ARREST</td>\n",
       "      <td>Wednesday</td>\n",
       "      <td>NORTHERN</td>\n",
       "      <td>ARREST, BOOKED</td>\n",
       "      <td>OAK ST / LAGUNA ST</td>\n",
       "      <td>-122.425892</td>\n",
       "      <td>37.774599</td>\n",
       "      <td>5</td>\n",
       "      <td>23</td>\n",
       "      <td>2015</td>\n",
       "      <td>2</td>\n",
       "    </tr>\n",
       "    <tr>\n",
       "      <th>2</th>\n",
       "      <td>2015-05-13 23:33:00</td>\n",
       "      <td>OTHER OFFENSES</td>\n",
       "      <td>TRAFFIC VIOLATION ARREST</td>\n",
       "      <td>Wednesday</td>\n",
       "      <td>NORTHERN</td>\n",
       "      <td>ARREST, BOOKED</td>\n",
       "      <td>VANNESS AV / GREENWICH ST</td>\n",
       "      <td>-122.424363</td>\n",
       "      <td>37.800414</td>\n",
       "      <td>5</td>\n",
       "      <td>23</td>\n",
       "      <td>2015</td>\n",
       "      <td>2</td>\n",
       "    </tr>\n",
       "    <tr>\n",
       "      <th>3</th>\n",
       "      <td>2015-05-13 23:30:00</td>\n",
       "      <td>LARCENY/THEFT</td>\n",
       "      <td>GRAND THEFT FROM LOCKED AUTO</td>\n",
       "      <td>Wednesday</td>\n",
       "      <td>NORTHERN</td>\n",
       "      <td>NONE</td>\n",
       "      <td>1500 Block of LOMBARD ST</td>\n",
       "      <td>-122.426995</td>\n",
       "      <td>37.800873</td>\n",
       "      <td>5</td>\n",
       "      <td>23</td>\n",
       "      <td>2015</td>\n",
       "      <td>2</td>\n",
       "    </tr>\n",
       "    <tr>\n",
       "      <th>4</th>\n",
       "      <td>2015-05-13 23:30:00</td>\n",
       "      <td>LARCENY/THEFT</td>\n",
       "      <td>GRAND THEFT FROM LOCKED AUTO</td>\n",
       "      <td>Wednesday</td>\n",
       "      <td>PARK</td>\n",
       "      <td>NONE</td>\n",
       "      <td>100 Block of BRODERICK ST</td>\n",
       "      <td>-122.438738</td>\n",
       "      <td>37.771541</td>\n",
       "      <td>5</td>\n",
       "      <td>23</td>\n",
       "      <td>2015</td>\n",
       "      <td>2</td>\n",
       "    </tr>\n",
       "  </tbody>\n",
       "</table>\n",
       "</div>"
      ],
      "text/plain": [
       "                 Dates        Category                      Descript  \\\n",
       "0  2015-05-13 23:53:00        WARRANTS                WARRANT ARREST   \n",
       "1  2015-05-13 23:53:00  OTHER OFFENSES      TRAFFIC VIOLATION ARREST   \n",
       "2  2015-05-13 23:33:00  OTHER OFFENSES      TRAFFIC VIOLATION ARREST   \n",
       "3  2015-05-13 23:30:00   LARCENY/THEFT  GRAND THEFT FROM LOCKED AUTO   \n",
       "4  2015-05-13 23:30:00   LARCENY/THEFT  GRAND THEFT FROM LOCKED AUTO   \n",
       "\n",
       "   DayOfWeek PdDistrict      Resolution                    Address  \\\n",
       "0  Wednesday   NORTHERN  ARREST, BOOKED         OAK ST / LAGUNA ST   \n",
       "1  Wednesday   NORTHERN  ARREST, BOOKED         OAK ST / LAGUNA ST   \n",
       "2  Wednesday   NORTHERN  ARREST, BOOKED  VANNESS AV / GREENWICH ST   \n",
       "3  Wednesday   NORTHERN            NONE   1500 Block of LOMBARD ST   \n",
       "4  Wednesday       PARK            NONE  100 Block of BRODERICK ST   \n",
       "\n",
       "            X          Y  month  hour  year  Day_Num  \n",
       "0 -122.425892  37.774599      5    23  2015        2  \n",
       "1 -122.425892  37.774599      5    23  2015        2  \n",
       "2 -122.424363  37.800414      5    23  2015        2  \n",
       "3 -122.426995  37.800873      5    23  2015        2  \n",
       "4 -122.438738  37.771541      5    23  2015        2  "
      ]
     },
     "execution_count": 45,
     "metadata": {},
     "output_type": "execute_result"
    }
   ],
   "source": [
    "train.head()"
   ]
  },
  {
   "cell_type": "code",
   "execution_count": 46,
   "metadata": {
    "collapsed": false
   },
   "outputs": [
    {
     "data": {
      "image/png": "[encoded data removed]",
      "text/plain": [
       "<matplotlib.figure.Figure at 0x10ee1fe80>"
      ]
     },
     "metadata": {},
     "output_type": "display_data"
    }
   ],
   "source": [
    "plt.figure(figsize=(12,8))\n",
    "ax=sns.countplot(x='DayOfWeek',data=train_burglary)"
   ]
  },
  {
   "cell_type": "code",
   "execution_count": 47,
   "metadata": {
    "collapsed": false
   },
   "outputs": [
    {
     "data": {
      "image/png": "[encoded data removed]",
      "text/plain": [
       "<matplotlib.figure.Figure at 0x10d127b38>"
      ]
     },
     "metadata": {},
     "output_type": "display_data"
    }
   ],
   "source": [
    "plt.figure(figsize=(12,8))\n",
    "ax=sns.countplot(x='hour',data=train_burglary)"
   ]
  },
  {
   "cell_type": "code",
   "execution_count": 48,
   "metadata": {
    "collapsed": false
   },
   "outputs": [
    {
     "data": {
      "image/png": "[encoded data removed]",
      "text/plain": [
       "<matplotlib.figure.Figure at 0x10cbf99b0>"
      ]
     },
     "metadata": {},
     "output_type": "display_data"
    }
   ],
   "source": [
    "plt.figure(figsize=(12,8))\n",
    "ax=sns.countplot(x='hour',data=train_burglary[train_burglary['DayOfWeek']=='Friday'])"
   ]
  },
  {
   "cell_type": "markdown",
   "metadata": {},
   "source": [
    "The burglary is maximum on Fridays so checking the hourly activity on Friday, we can see that 5pm on Friday is most prone to burglaries."
   ]
  },
  {
   "cell_type": "code",
   "execution_count": 49,
   "metadata": {
    "collapsed": false
   },
   "outputs": [
    {
     "data": {
      "text/html": [
       "<div>\n",
       "<table border=\"1\" class=\"dataframe\">\n",
       "  <thead>\n",
       "    <tr style=\"text-align: right;\">\n",
       "      <th></th>\n",
       "      <th>Dates</th>\n",
       "      <th>Category</th>\n",
       "      <th>Descript</th>\n",
       "      <th>DayOfWeek</th>\n",
       "      <th>PdDistrict</th>\n",
       "      <th>Resolution</th>\n",
       "      <th>Address</th>\n",
       "      <th>X</th>\n",
       "      <th>Y</th>\n",
       "      <th>month</th>\n",
       "      <th>hour</th>\n",
       "      <th>year</th>\n",
       "      <th>Day_Num</th>\n",
       "    </tr>\n",
       "  </thead>\n",
       "  <tbody>\n",
       "    <tr>\n",
       "      <th>17</th>\n",
       "      <td>2015-05-13 21:55:00</td>\n",
       "      <td>ASSAULT</td>\n",
       "      <td>AGGRAVATED ASSAULT WITH BODILY FORCE</td>\n",
       "      <td>Wednesday</td>\n",
       "      <td>INGLESIDE</td>\n",
       "      <td>NONE</td>\n",
       "      <td>GODEUS ST / MISSION ST</td>\n",
       "      <td>-122.421682</td>\n",
       "      <td>37.742822</td>\n",
       "      <td>5</td>\n",
       "      <td>21</td>\n",
       "      <td>2015</td>\n",
       "      <td>2</td>\n",
       "    </tr>\n",
       "    <tr>\n",
       "      <th>51</th>\n",
       "      <td>2015-05-13 19:33:00</td>\n",
       "      <td>ASSAULT</td>\n",
       "      <td>AGGRAVATED ASSAULT WITH BODILY FORCE</td>\n",
       "      <td>Wednesday</td>\n",
       "      <td>BAYVIEW</td>\n",
       "      <td>NONE</td>\n",
       "      <td>23RD ST / WISCONSIN ST</td>\n",
       "      <td>-122.398696</td>\n",
       "      <td>37.754746</td>\n",
       "      <td>5</td>\n",
       "      <td>19</td>\n",
       "      <td>2015</td>\n",
       "      <td>2</td>\n",
       "    </tr>\n",
       "    <tr>\n",
       "      <th>109</th>\n",
       "      <td>2015-05-13 17:47:00</td>\n",
       "      <td>ASSAULT</td>\n",
       "      <td>CHILD ABUSE (PHYSICAL)</td>\n",
       "      <td>Wednesday</td>\n",
       "      <td>BAYVIEW</td>\n",
       "      <td>NONE</td>\n",
       "      <td>0 Block of WHITFIELD CT</td>\n",
       "      <td>-122.381838</td>\n",
       "      <td>37.731104</td>\n",
       "      <td>5</td>\n",
       "      <td>17</td>\n",
       "      <td>2015</td>\n",
       "      <td>2</td>\n",
       "    </tr>\n",
       "    <tr>\n",
       "      <th>114</th>\n",
       "      <td>2015-05-13 17:40:00</td>\n",
       "      <td>ASSAULT</td>\n",
       "      <td>THREATS AGAINST LIFE</td>\n",
       "      <td>Wednesday</td>\n",
       "      <td>CENTRAL</td>\n",
       "      <td>NONE</td>\n",
       "      <td>1400 Block of STOCKTON ST</td>\n",
       "      <td>-122.409032</td>\n",
       "      <td>37.799253</td>\n",
       "      <td>5</td>\n",
       "      <td>17</td>\n",
       "      <td>2015</td>\n",
       "      <td>2</td>\n",
       "    </tr>\n",
       "    <tr>\n",
       "      <th>165</th>\n",
       "      <td>2015-05-13 15:40:00</td>\n",
       "      <td>ASSAULT</td>\n",
       "      <td>BATTERY, FORMER SPOUSE OR DATING RELATIONSHIP</td>\n",
       "      <td>Wednesday</td>\n",
       "      <td>PARK</td>\n",
       "      <td>NONE</td>\n",
       "      <td>1700 Block of MCALLISTER ST</td>\n",
       "      <td>-122.440880</td>\n",
       "      <td>37.777532</td>\n",
       "      <td>5</td>\n",
       "      <td>15</td>\n",
       "      <td>2015</td>\n",
       "      <td>2</td>\n",
       "    </tr>\n",
       "  </tbody>\n",
       "</table>\n",
       "</div>"
      ],
      "text/plain": [
       "                   Dates Category  \\\n",
       "17   2015-05-13 21:55:00  ASSAULT   \n",
       "51   2015-05-13 19:33:00  ASSAULT   \n",
       "109  2015-05-13 17:47:00  ASSAULT   \n",
       "114  2015-05-13 17:40:00  ASSAULT   \n",
       "165  2015-05-13 15:40:00  ASSAULT   \n",
       "\n",
       "                                          Descript  DayOfWeek PdDistrict  \\\n",
       "17            AGGRAVATED ASSAULT WITH BODILY FORCE  Wednesday  INGLESIDE   \n",
       "51            AGGRAVATED ASSAULT WITH BODILY FORCE  Wednesday    BAYVIEW   \n",
       "109                         CHILD ABUSE (PHYSICAL)  Wednesday    BAYVIEW   \n",
       "114                           THREATS AGAINST LIFE  Wednesday    CENTRAL   \n",
       "165  BATTERY, FORMER SPOUSE OR DATING RELATIONSHIP  Wednesday       PARK   \n",
       "\n",
       "    Resolution                      Address           X          Y  month  \\\n",
       "17        NONE       GODEUS ST / MISSION ST -122.421682  37.742822      5   \n",
       "51        NONE       23RD ST / WISCONSIN ST -122.398696  37.754746      5   \n",
       "109       NONE      0 Block of WHITFIELD CT -122.381838  37.731104      5   \n",
       "114       NONE    1400 Block of STOCKTON ST -122.409032  37.799253      5   \n",
       "165       NONE  1700 Block of MCALLISTER ST -122.440880  37.777532      5   \n",
       "\n",
       "     hour  year  Day_Num  \n",
       "17     21  2015        2  \n",
       "51     19  2015        2  \n",
       "109    17  2015        2  \n",
       "114    17  2015        2  \n",
       "165    15  2015        2  "
      ]
     },
     "execution_count": 49,
     "metadata": {},
     "output_type": "execute_result"
    }
   ],
   "source": [
    "train_assault = train[train['Category']==\"ASSAULT\"]\n",
    "train_assault.head()"
   ]
  },
  {
   "cell_type": "code",
   "execution_count": 50,
   "metadata": {
    "collapsed": false
   },
   "outputs": [
    {
     "data": {
      "image/png": "[encoded data removed]",
      "text/plain": [
       "<matplotlib.figure.Figure at 0x10dcab4a8>"
      ]
     },
     "metadata": {},
     "output_type": "display_data"
    }
   ],
   "source": [
    "plt.figure(figsize=(12,8))\n",
    "ax=sns.countplot(x='DayOfWeek',data=train_assault)"
   ]
  },
  {
   "cell_type": "code",
   "execution_count": 51,
   "metadata": {
    "collapsed": false
   },
   "outputs": [
    {
     "data": {
      "image/png": "[encoded data removed]",
      "text/plain": [
       "<matplotlib.figure.Figure at 0x10d9ae588>"
      ]
     },
     "metadata": {},
     "output_type": "display_data"
    }
   ],
   "source": [
    "plt.figure(figsize=(12,8))\n",
    "ax=sns.countplot(x='hour',data=train_assault)"
   ]
  },
  {
   "cell_type": "code",
   "execution_count": 52,
   "metadata": {
    "collapsed": false
   },
   "outputs": [
    {
     "data": {
      "image/png": "[encoded data removed]",
      "text/plain": [
       "<matplotlib.figure.Figure at 0x1020a8e10>"
      ]
     },
     "metadata": {},
     "output_type": "display_data"
    }
   ],
   "source": [
    "plt.figure(figsize=(12,8))\n",
    "ax=sns.countplot(x='hour',data=train_assault[train_assault['DayOfWeek']=='Sunday'])"
   ]
  },
  {
   "cell_type": "markdown",
   "metadata": {},
   "source": [
    "Although the general trend for assault is that, it's maximum around 12pm. Looking at the graph for Sunday(when most number of assaults are recorded), it shows it's around 1AM."
   ]
  },
  {
   "cell_type": "code",
   "execution_count": 53,
   "metadata": {
    "collapsed": false
   },
   "outputs": [
    {
     "data": {
      "text/html": [
       "<div>\n",
       "<table border=\"1\" class=\"dataframe\">\n",
       "  <thead>\n",
       "    <tr style=\"text-align: right;\">\n",
       "      <th></th>\n",
       "      <th>Dates</th>\n",
       "      <th>Category</th>\n",
       "      <th>Descript</th>\n",
       "      <th>DayOfWeek</th>\n",
       "      <th>PdDistrict</th>\n",
       "      <th>Resolution</th>\n",
       "      <th>Address</th>\n",
       "      <th>X</th>\n",
       "      <th>Y</th>\n",
       "      <th>month</th>\n",
       "      <th>hour</th>\n",
       "      <th>year</th>\n",
       "      <th>Day_Num</th>\n",
       "    </tr>\n",
       "  </thead>\n",
       "  <tbody>\n",
       "    <tr>\n",
       "      <th>107</th>\n",
       "      <td>2015-05-13 17:47:00</td>\n",
       "      <td>DRUG/NARCOTIC</td>\n",
       "      <td>POSSESSION OF NARCOTICS PARAPHERNALIA</td>\n",
       "      <td>Wednesday</td>\n",
       "      <td>BAYVIEW</td>\n",
       "      <td>NONE</td>\n",
       "      <td>0 Block of WHITFIELD CT</td>\n",
       "      <td>-122.381838</td>\n",
       "      <td>37.731104</td>\n",
       "      <td>5</td>\n",
       "      <td>17</td>\n",
       "      <td>2015</td>\n",
       "      <td>2</td>\n",
       "    </tr>\n",
       "    <tr>\n",
       "      <th>125</th>\n",
       "      <td>2015-05-13 17:12:00</td>\n",
       "      <td>DRUG/NARCOTIC</td>\n",
       "      <td>POSSESSION OF MARIJUANA</td>\n",
       "      <td>Wednesday</td>\n",
       "      <td>SOUTHERN</td>\n",
       "      <td>ARREST, BOOKED</td>\n",
       "      <td>6TH ST / NATOMA ST</td>\n",
       "      <td>-122.407693</td>\n",
       "      <td>37.780163</td>\n",
       "      <td>5</td>\n",
       "      <td>17</td>\n",
       "      <td>2015</td>\n",
       "      <td>2</td>\n",
       "    </tr>\n",
       "    <tr>\n",
       "      <th>184</th>\n",
       "      <td>2015-05-13 14:31:00</td>\n",
       "      <td>DRUG/NARCOTIC</td>\n",
       "      <td>POSSESSION OF MARIJUANA FOR SALES</td>\n",
       "      <td>Wednesday</td>\n",
       "      <td>PARK</td>\n",
       "      <td>ARREST, BOOKED</td>\n",
       "      <td>1600 Block of HAIGHT ST</td>\n",
       "      <td>-122.449123</td>\n",
       "      <td>37.769784</td>\n",
       "      <td>5</td>\n",
       "      <td>14</td>\n",
       "      <td>2015</td>\n",
       "      <td>2</td>\n",
       "    </tr>\n",
       "    <tr>\n",
       "      <th>185</th>\n",
       "      <td>2015-05-13 14:31:00</td>\n",
       "      <td>DRUG/NARCOTIC</td>\n",
       "      <td>SALE OF MARIJUANA</td>\n",
       "      <td>Wednesday</td>\n",
       "      <td>PARK</td>\n",
       "      <td>ARREST, BOOKED</td>\n",
       "      <td>1600 Block of HAIGHT ST</td>\n",
       "      <td>-122.449123</td>\n",
       "      <td>37.769784</td>\n",
       "      <td>5</td>\n",
       "      <td>14</td>\n",
       "      <td>2015</td>\n",
       "      <td>2</td>\n",
       "    </tr>\n",
       "    <tr>\n",
       "      <th>220</th>\n",
       "      <td>2015-05-13 13:19:00</td>\n",
       "      <td>DRUG/NARCOTIC</td>\n",
       "      <td>POSSESSION OF NARCOTICS PARAPHERNALIA</td>\n",
       "      <td>Wednesday</td>\n",
       "      <td>MISSION</td>\n",
       "      <td>ARREST, BOOKED</td>\n",
       "      <td>17TH ST / MISSION ST</td>\n",
       "      <td>-122.419516</td>\n",
       "      <td>37.763429</td>\n",
       "      <td>5</td>\n",
       "      <td>13</td>\n",
       "      <td>2015</td>\n",
       "      <td>2</td>\n",
       "    </tr>\n",
       "  </tbody>\n",
       "</table>\n",
       "</div>"
      ],
      "text/plain": [
       "                   Dates       Category  \\\n",
       "107  2015-05-13 17:47:00  DRUG/NARCOTIC   \n",
       "125  2015-05-13 17:12:00  DRUG/NARCOTIC   \n",
       "184  2015-05-13 14:31:00  DRUG/NARCOTIC   \n",
       "185  2015-05-13 14:31:00  DRUG/NARCOTIC   \n",
       "220  2015-05-13 13:19:00  DRUG/NARCOTIC   \n",
       "\n",
       "                                  Descript  DayOfWeek PdDistrict  \\\n",
       "107  POSSESSION OF NARCOTICS PARAPHERNALIA  Wednesday    BAYVIEW   \n",
       "125                POSSESSION OF MARIJUANA  Wednesday   SOUTHERN   \n",
       "184      POSSESSION OF MARIJUANA FOR SALES  Wednesday       PARK   \n",
       "185                      SALE OF MARIJUANA  Wednesday       PARK   \n",
       "220  POSSESSION OF NARCOTICS PARAPHERNALIA  Wednesday    MISSION   \n",
       "\n",
       "         Resolution                  Address           X          Y  month  \\\n",
       "107            NONE  0 Block of WHITFIELD CT -122.381838  37.731104      5   \n",
       "125  ARREST, BOOKED       6TH ST / NATOMA ST -122.407693  37.780163      5   \n",
       "184  ARREST, BOOKED  1600 Block of HAIGHT ST -122.449123  37.769784      5   \n",
       "185  ARREST, BOOKED  1600 Block of HAIGHT ST -122.449123  37.769784      5   \n",
       "220  ARREST, BOOKED     17TH ST / MISSION ST -122.419516  37.763429      5   \n",
       "\n",
       "     hour  year  Day_Num  \n",
       "107    17  2015        2  \n",
       "125    17  2015        2  \n",
       "184    14  2015        2  \n",
       "185    14  2015        2  \n",
       "220    13  2015        2  "
      ]
     },
     "execution_count": 53,
     "metadata": {},
     "output_type": "execute_result"
    }
   ],
   "source": [
    "train_drug = train[train['Category']==\"DRUG/NARCOTIC\"]\n",
    "train_drug.head()"
   ]
  },
  {
   "cell_type": "code",
   "execution_count": 54,
   "metadata": {
    "collapsed": false
   },
   "outputs": [
    {
     "data": {
      "image/png": "[encoded data removed]",
      "text/plain": [
       "<matplotlib.figure.Figure at 0x10dd23e80>"
      ]
     },
     "metadata": {},
     "output_type": "display_data"
    }
   ],
   "source": [
    "plt.figure(figsize=(12,8))\n",
    "ax=sns.countplot(x='hour',data=train_drug)"
   ]
  },
  {
   "cell_type": "code",
   "execution_count": 55,
   "metadata": {
    "collapsed": false
   },
   "outputs": [
    {
     "data": {
      "image/png": "[encoded data removed]",
      "text/plain": [
       "<matplotlib.figure.Figure at 0x10dbc3e10>"
      ]
     },
     "metadata": {},
     "output_type": "display_data"
    }
   ],
   "source": [
    "plt.figure(figsize=(12,8))\n",
    "ax=sns.countplot(x='DayOfWeek',data=train_drug)"
   ]
  },
  {
   "cell_type": "code",
   "execution_count": 56,
   "metadata": {
    "collapsed": false
   },
   "outputs": [
    {
     "data": {
      "image/png": "[encoded data removed]",
      "text/plain": [
       "<matplotlib.figure.Figure at 0x10d799898>"
      ]
     },
     "metadata": {},
     "output_type": "display_data"
    }
   ],
   "source": [
    "plt.figure(figsize=(12,8))\n",
    "ax=sns.countplot(x='hour',data=train_drug[train_drug['DayOfWeek']=='Wednesday'])"
   ]
  },
  {
   "cell_type": "code",
   "execution_count": 57,
   "metadata": {
    "collapsed": false
   },
   "outputs": [
    {
     "data": {
      "image/png": "[encoded data removed]",
      "text/plain": [
       "<matplotlib.figure.Figure at 0x10da03748>"
      ]
     },
     "metadata": {},
     "output_type": "display_data"
    }
   ],
   "source": [
    "plt.figure(figsize=(12,8))\n",
    "ax=sns.countplot(x='hour',data=train_drug[train_drug['DayOfWeek']=='Sunday'])"
   ]
  },
  {
   "cell_type": "markdown",
   "metadata": {},
   "source": [
    "Although the overall crime recorded is the least on Wednesday the number of crimes due to drug or narcotic is most on Wednesday and specifically at 2pm on Wednesday."
   ]
  },
  {
   "cell_type": "code",
   "execution_count": 58,
   "metadata": {
    "collapsed": false
   },
   "outputs": [
    {
     "data": {
      "text/html": [
       "<div>\n",
       "<table border=\"1\" class=\"dataframe\">\n",
       "  <thead>\n",
       "    <tr style=\"text-align: right;\">\n",
       "      <th></th>\n",
       "      <th>Dates</th>\n",
       "      <th>Category</th>\n",
       "      <th>Descript</th>\n",
       "      <th>DayOfWeek</th>\n",
       "      <th>PdDistrict</th>\n",
       "      <th>Resolution</th>\n",
       "      <th>Address</th>\n",
       "      <th>X</th>\n",
       "      <th>Y</th>\n",
       "      <th>month</th>\n",
       "      <th>hour</th>\n",
       "      <th>year</th>\n",
       "      <th>Day_Num</th>\n",
       "    </tr>\n",
       "  </thead>\n",
       "  <tbody>\n",
       "    <tr>\n",
       "      <th>3</th>\n",
       "      <td>2015-05-13 23:30:00</td>\n",
       "      <td>LARCENY/THEFT</td>\n",
       "      <td>GRAND THEFT FROM LOCKED AUTO</td>\n",
       "      <td>Wednesday</td>\n",
       "      <td>NORTHERN</td>\n",
       "      <td>NONE</td>\n",
       "      <td>1500 Block of LOMBARD ST</td>\n",
       "      <td>-122.426995</td>\n",
       "      <td>37.800873</td>\n",
       "      <td>5</td>\n",
       "      <td>23</td>\n",
       "      <td>2015</td>\n",
       "      <td>2</td>\n",
       "    </tr>\n",
       "    <tr>\n",
       "      <th>4</th>\n",
       "      <td>2015-05-13 23:30:00</td>\n",
       "      <td>LARCENY/THEFT</td>\n",
       "      <td>GRAND THEFT FROM LOCKED AUTO</td>\n",
       "      <td>Wednesday</td>\n",
       "      <td>PARK</td>\n",
       "      <td>NONE</td>\n",
       "      <td>100 Block of BRODERICK ST</td>\n",
       "      <td>-122.438738</td>\n",
       "      <td>37.771541</td>\n",
       "      <td>5</td>\n",
       "      <td>23</td>\n",
       "      <td>2015</td>\n",
       "      <td>2</td>\n",
       "    </tr>\n",
       "    <tr>\n",
       "      <th>5</th>\n",
       "      <td>2015-05-13 23:30:00</td>\n",
       "      <td>LARCENY/THEFT</td>\n",
       "      <td>GRAND THEFT FROM UNLOCKED AUTO</td>\n",
       "      <td>Wednesday</td>\n",
       "      <td>INGLESIDE</td>\n",
       "      <td>NONE</td>\n",
       "      <td>0 Block of TEDDY AV</td>\n",
       "      <td>-122.403252</td>\n",
       "      <td>37.713431</td>\n",
       "      <td>5</td>\n",
       "      <td>23</td>\n",
       "      <td>2015</td>\n",
       "      <td>2</td>\n",
       "    </tr>\n",
       "    <tr>\n",
       "      <th>8</th>\n",
       "      <td>2015-05-13 23:00:00</td>\n",
       "      <td>LARCENY/THEFT</td>\n",
       "      <td>GRAND THEFT FROM LOCKED AUTO</td>\n",
       "      <td>Wednesday</td>\n",
       "      <td>RICHMOND</td>\n",
       "      <td>NONE</td>\n",
       "      <td>600 Block of 47TH AV</td>\n",
       "      <td>-122.508194</td>\n",
       "      <td>37.776601</td>\n",
       "      <td>5</td>\n",
       "      <td>23</td>\n",
       "      <td>2015</td>\n",
       "      <td>2</td>\n",
       "    </tr>\n",
       "    <tr>\n",
       "      <th>9</th>\n",
       "      <td>2015-05-13 23:00:00</td>\n",
       "      <td>LARCENY/THEFT</td>\n",
       "      <td>GRAND THEFT FROM LOCKED AUTO</td>\n",
       "      <td>Wednesday</td>\n",
       "      <td>CENTRAL</td>\n",
       "      <td>NONE</td>\n",
       "      <td>JEFFERSON ST / LEAVENWORTH ST</td>\n",
       "      <td>-122.419088</td>\n",
       "      <td>37.807802</td>\n",
       "      <td>5</td>\n",
       "      <td>23</td>\n",
       "      <td>2015</td>\n",
       "      <td>2</td>\n",
       "    </tr>\n",
       "  </tbody>\n",
       "</table>\n",
       "</div>"
      ],
      "text/plain": [
       "                 Dates       Category                        Descript  \\\n",
       "3  2015-05-13 23:30:00  LARCENY/THEFT    GRAND THEFT FROM LOCKED AUTO   \n",
       "4  2015-05-13 23:30:00  LARCENY/THEFT    GRAND THEFT FROM LOCKED AUTO   \n",
       "5  2015-05-13 23:30:00  LARCENY/THEFT  GRAND THEFT FROM UNLOCKED AUTO   \n",
       "8  2015-05-13 23:00:00  LARCENY/THEFT    GRAND THEFT FROM LOCKED AUTO   \n",
       "9  2015-05-13 23:00:00  LARCENY/THEFT    GRAND THEFT FROM LOCKED AUTO   \n",
       "\n",
       "   DayOfWeek PdDistrict Resolution                        Address           X  \\\n",
       "3  Wednesday   NORTHERN       NONE       1500 Block of LOMBARD ST -122.426995   \n",
       "4  Wednesday       PARK       NONE      100 Block of BRODERICK ST -122.438738   \n",
       "5  Wednesday  INGLESIDE       NONE            0 Block of TEDDY AV -122.403252   \n",
       "8  Wednesday   RICHMOND       NONE           600 Block of 47TH AV -122.508194   \n",
       "9  Wednesday    CENTRAL       NONE  JEFFERSON ST / LEAVENWORTH ST -122.419088   \n",
       "\n",
       "           Y  month  hour  year  Day_Num  \n",
       "3  37.800873      5    23  2015        2  \n",
       "4  37.771541      5    23  2015        2  \n",
       "5  37.713431      5    23  2015        2  \n",
       "8  37.776601      5    23  2015        2  \n",
       "9  37.807802      5    23  2015        2  "
      ]
     },
     "execution_count": 58,
     "metadata": {},
     "output_type": "execute_result"
    }
   ],
   "source": [
    "train_larceny = train[train['Category']==\"LARCENY/THEFT\"]\n",
    "train_larceny.head()"
   ]
  },
  {
   "cell_type": "code",
   "execution_count": 59,
   "metadata": {
    "collapsed": false
   },
   "outputs": [
    {
     "data": {
      "image/png": "[encoded data removed]",
      "text/plain": [
       "<matplotlib.figure.Figure at 0x10c8aa748>"
      ]
     },
     "metadata": {},
     "output_type": "display_data"
    }
   ],
   "source": [
    "plt.figure(figsize=(12,8))\n",
    "ax=sns.countplot(x='DayOfWeek',data=train_larceny)"
   ]
  },
  {
   "cell_type": "code",
   "execution_count": 60,
   "metadata": {
    "collapsed": false
   },
   "outputs": [
    {
     "data": {
      "image/png": "[encoded data removed]",
      "text/plain": [
       "<matplotlib.figure.Figure at 0x10fa2f9b0>"
      ]
     },
     "metadata": {},
     "output_type": "display_data"
    }
   ],
   "source": [
    "plt.figure(figsize=(12,8))\n",
    "ax=sns.countplot(x='hour',data=train_larceny)"
   ]
  },
  {
   "cell_type": "code",
   "execution_count": 61,
   "metadata": {
    "collapsed": false
   },
   "outputs": [
    {
     "data": {
      "image/png": "[encoded data removed]",
      "text/plain": [
       "<matplotlib.figure.Figure at 0x10d080400>"
      ]
     },
     "metadata": {},
     "output_type": "display_data"
    }
   ],
   "source": [
    "plt.figure(figsize=(12,8))\n",
    "ax=sns.countplot(x='hour',data=train_larceny[train_larceny['DayOfWeek']=='Friday'])"
   ]
  },
  {
   "cell_type": "code",
   "execution_count": 62,
   "metadata": {
    "collapsed": false
   },
   "outputs": [
    {
     "data": {
      "image/png": "[encoded data removed]",
      "text/plain": [
       "<matplotlib.figure.Figure at 0x10ec25f98>"
      ]
     },
     "metadata": {},
     "output_type": "display_data"
    }
   ],
   "source": [
    "plt.figure(figsize=(12,8))\n",
    "ax=sns.countplot(x='hour',data=train_larceny[train_larceny['DayOfWeek']=='Saturday'])"
   ]
  },
  {
   "cell_type": "markdown",
   "metadata": {},
   "source": [
    "The larceny category has most number of crimes recorded on Saturday followed by Friday. Looking at the hourly distribution we can see that for Friday it's maximum at 6pm whereas on Saturday it's at it's peak at 11pm."
   ]
  },
  {
   "cell_type": "code",
   "execution_count": 63,
   "metadata": {
    "collapsed": false
   },
   "outputs": [
    {
     "data": {
      "text/html": [
       "<div>\n",
       "<table border=\"1\" class=\"dataframe\">\n",
       "  <thead>\n",
       "    <tr style=\"text-align: right;\">\n",
       "      <th></th>\n",
       "      <th>Dates</th>\n",
       "      <th>Category</th>\n",
       "      <th>Descript</th>\n",
       "      <th>DayOfWeek</th>\n",
       "      <th>PdDistrict</th>\n",
       "      <th>Resolution</th>\n",
       "      <th>Address</th>\n",
       "      <th>X</th>\n",
       "      <th>Y</th>\n",
       "      <th>month</th>\n",
       "      <th>hour</th>\n",
       "      <th>year</th>\n",
       "      <th>Day_Num</th>\n",
       "    </tr>\n",
       "  </thead>\n",
       "  <tbody>\n",
       "    <tr>\n",
       "      <th>12</th>\n",
       "      <td>2015-05-13 22:30:00</td>\n",
       "      <td>VANDALISM</td>\n",
       "      <td>MALICIOUS MISCHIEF, VANDALISM OF VEHICLES</td>\n",
       "      <td>Wednesday</td>\n",
       "      <td>TENDERLOIN</td>\n",
       "      <td>NONE</td>\n",
       "      <td>TURK ST / JONES ST</td>\n",
       "      <td>-122.412414</td>\n",
       "      <td>37.783004</td>\n",
       "      <td>5</td>\n",
       "      <td>22</td>\n",
       "      <td>2015</td>\n",
       "      <td>2</td>\n",
       "    </tr>\n",
       "    <tr>\n",
       "      <th>32</th>\n",
       "      <td>2015-05-13 20:45:00</td>\n",
       "      <td>VANDALISM</td>\n",
       "      <td>MALICIOUS MISCHIEF, VANDALISM</td>\n",
       "      <td>Wednesday</td>\n",
       "      <td>NORTHERN</td>\n",
       "      <td>NONE</td>\n",
       "      <td>1500 Block of FILLMORE ST</td>\n",
       "      <td>-122.432744</td>\n",
       "      <td>37.783842</td>\n",
       "      <td>5</td>\n",
       "      <td>20</td>\n",
       "      <td>2015</td>\n",
       "      <td>2</td>\n",
       "    </tr>\n",
       "    <tr>\n",
       "      <th>34</th>\n",
       "      <td>2015-05-13 20:30:00</td>\n",
       "      <td>VANDALISM</td>\n",
       "      <td>MALICIOUS MISCHIEF, VANDALISM</td>\n",
       "      <td>Wednesday</td>\n",
       "      <td>NORTHERN</td>\n",
       "      <td>NONE</td>\n",
       "      <td>1600 Block of WEBSTER ST</td>\n",
       "      <td>-122.431310</td>\n",
       "      <td>37.785871</td>\n",
       "      <td>5</td>\n",
       "      <td>20</td>\n",
       "      <td>2015</td>\n",
       "      <td>2</td>\n",
       "    </tr>\n",
       "    <tr>\n",
       "      <th>39</th>\n",
       "      <td>2015-05-13 20:25:00</td>\n",
       "      <td>VANDALISM</td>\n",
       "      <td>MALICIOUS MISCHIEF, VANDALISM</td>\n",
       "      <td>Wednesday</td>\n",
       "      <td>INGLESIDE</td>\n",
       "      <td>NONE</td>\n",
       "      <td>0 Block of WINDING WY</td>\n",
       "      <td>-122.432446</td>\n",
       "      <td>37.710833</td>\n",
       "      <td>5</td>\n",
       "      <td>20</td>\n",
       "      <td>2015</td>\n",
       "      <td>2</td>\n",
       "    </tr>\n",
       "    <tr>\n",
       "      <th>126</th>\n",
       "      <td>2015-05-13 17:07:00</td>\n",
       "      <td>VANDALISM</td>\n",
       "      <td>MALICIOUS MISCHIEF, VANDALISM</td>\n",
       "      <td>Wednesday</td>\n",
       "      <td>NORTHERN</td>\n",
       "      <td>NONE</td>\n",
       "      <td>1100 Block of FILLMORE ST</td>\n",
       "      <td>-122.431980</td>\n",
       "      <td>37.780048</td>\n",
       "      <td>5</td>\n",
       "      <td>17</td>\n",
       "      <td>2015</td>\n",
       "      <td>2</td>\n",
       "    </tr>\n",
       "  </tbody>\n",
       "</table>\n",
       "</div>"
      ],
      "text/plain": [
       "                   Dates   Category  \\\n",
       "12   2015-05-13 22:30:00  VANDALISM   \n",
       "32   2015-05-13 20:45:00  VANDALISM   \n",
       "34   2015-05-13 20:30:00  VANDALISM   \n",
       "39   2015-05-13 20:25:00  VANDALISM   \n",
       "126  2015-05-13 17:07:00  VANDALISM   \n",
       "\n",
       "                                      Descript  DayOfWeek  PdDistrict  \\\n",
       "12   MALICIOUS MISCHIEF, VANDALISM OF VEHICLES  Wednesday  TENDERLOIN   \n",
       "32               MALICIOUS MISCHIEF, VANDALISM  Wednesday    NORTHERN   \n",
       "34               MALICIOUS MISCHIEF, VANDALISM  Wednesday    NORTHERN   \n",
       "39               MALICIOUS MISCHIEF, VANDALISM  Wednesday   INGLESIDE   \n",
       "126              MALICIOUS MISCHIEF, VANDALISM  Wednesday    NORTHERN   \n",
       "\n",
       "    Resolution                    Address           X          Y  month  hour  \\\n",
       "12        NONE         TURK ST / JONES ST -122.412414  37.783004      5    22   \n",
       "32        NONE  1500 Block of FILLMORE ST -122.432744  37.783842      5    20   \n",
       "34        NONE   1600 Block of WEBSTER ST -122.431310  37.785871      5    20   \n",
       "39        NONE      0 Block of WINDING WY -122.432446  37.710833      5    20   \n",
       "126       NONE  1100 Block of FILLMORE ST -122.431980  37.780048      5    17   \n",
       "\n",
       "     year  Day_Num  \n",
       "12   2015        2  \n",
       "32   2015        2  \n",
       "34   2015        2  \n",
       "39   2015        2  \n",
       "126  2015        2  "
      ]
     },
     "execution_count": 63,
     "metadata": {},
     "output_type": "execute_result"
    }
   ],
   "source": [
    "train_vandalism = train[train['Category']==\"VANDALISM\"]\n",
    "train_vandalism.head()"
   ]
  },
  {
   "cell_type": "code",
   "execution_count": 64,
   "metadata": {
    "collapsed": false
   },
   "outputs": [
    {
     "data": {
      "image/png": "[encoded data removed]",
      "text/plain": [
       "<matplotlib.figure.Figure at 0x10fa03a58>"
      ]
     },
     "metadata": {},
     "output_type": "display_data"
    }
   ],
   "source": [
    "plt.figure(figsize=(12,8))\n",
    "ax=sns.countplot(x='DayOfWeek',data=train_vandalism)"
   ]
  },
  {
   "cell_type": "code",
   "execution_count": 65,
   "metadata": {
    "collapsed": false
   },
   "outputs": [
    {
     "data": {
      "image/png": "[encoded data removed]",
      "text/plain": [
       "<matplotlib.figure.Figure at 0x10d726048>"
      ]
     },
     "metadata": {},
     "output_type": "display_data"
    }
   ],
   "source": [
    "plt.figure(figsize=(12,8))\n",
    "ax=sns.countplot(x='hour',data=train_vandalism)"
   ]
  },
  {
   "cell_type": "code",
   "execution_count": 66,
   "metadata": {
    "collapsed": false
   },
   "outputs": [
    {
     "data": {
      "image/png": "[encoded data removed]",
      "text/plain": [
       "<matplotlib.figure.Figure at 0x10d6ee588>"
      ]
     },
     "metadata": {},
     "output_type": "display_data"
    }
   ],
   "source": [
    "plt.figure(figsize=(12,8))\n",
    "ax=sns.countplot(x='hour',data=train_vandalism[train_vandalism['DayOfWeek']=='Saturday'])"
   ]
  },
  {
   "cell_type": "markdown",
   "metadata": {},
   "source": [
    "The maximum crime activity recorded due to vandalism is on Saturday at 10pm."
   ]
  },
  {
   "cell_type": "code",
   "execution_count": 67,
   "metadata": {
    "collapsed": false
   },
   "outputs": [
    {
     "data": {
      "text/html": [
       "<div>\n",
       "<table border=\"1\" class=\"dataframe\">\n",
       "  <thead>\n",
       "    <tr style=\"text-align: right;\">\n",
       "      <th></th>\n",
       "      <th>Dates</th>\n",
       "      <th>Category</th>\n",
       "      <th>Descript</th>\n",
       "      <th>DayOfWeek</th>\n",
       "      <th>PdDistrict</th>\n",
       "      <th>Resolution</th>\n",
       "      <th>Address</th>\n",
       "      <th>X</th>\n",
       "      <th>Y</th>\n",
       "      <th>month</th>\n",
       "      <th>hour</th>\n",
       "      <th>year</th>\n",
       "      <th>Day_Num</th>\n",
       "    </tr>\n",
       "  </thead>\n",
       "  <tbody>\n",
       "    <tr>\n",
       "      <th>6</th>\n",
       "      <td>2015-05-13 23:30:00</td>\n",
       "      <td>VEHICLE THEFT</td>\n",
       "      <td>STOLEN AUTOMOBILE</td>\n",
       "      <td>Wednesday</td>\n",
       "      <td>INGLESIDE</td>\n",
       "      <td>NONE</td>\n",
       "      <td>AVALON AV / PERU AV</td>\n",
       "      <td>-122.423327</td>\n",
       "      <td>37.725138</td>\n",
       "      <td>5</td>\n",
       "      <td>23</td>\n",
       "      <td>2015</td>\n",
       "      <td>2</td>\n",
       "    </tr>\n",
       "    <tr>\n",
       "      <th>7</th>\n",
       "      <td>2015-05-13 23:30:00</td>\n",
       "      <td>VEHICLE THEFT</td>\n",
       "      <td>STOLEN AUTOMOBILE</td>\n",
       "      <td>Wednesday</td>\n",
       "      <td>BAYVIEW</td>\n",
       "      <td>NONE</td>\n",
       "      <td>KIRKWOOD AV / DONAHUE ST</td>\n",
       "      <td>-122.371274</td>\n",
       "      <td>37.727564</td>\n",
       "      <td>5</td>\n",
       "      <td>23</td>\n",
       "      <td>2015</td>\n",
       "      <td>2</td>\n",
       "    </tr>\n",
       "    <tr>\n",
       "      <th>46</th>\n",
       "      <td>2015-05-13 20:00:00</td>\n",
       "      <td>VEHICLE THEFT</td>\n",
       "      <td>STOLEN MOTORCYCLE</td>\n",
       "      <td>Wednesday</td>\n",
       "      <td>INGLESIDE</td>\n",
       "      <td>NONE</td>\n",
       "      <td>0 Block of CRESCENT AV</td>\n",
       "      <td>-122.423702</td>\n",
       "      <td>37.735233</td>\n",
       "      <td>5</td>\n",
       "      <td>20</td>\n",
       "      <td>2015</td>\n",
       "      <td>2</td>\n",
       "    </tr>\n",
       "    <tr>\n",
       "      <th>59</th>\n",
       "      <td>2015-05-13 19:28:00</td>\n",
       "      <td>VEHICLE THEFT</td>\n",
       "      <td>STOLEN AND RECOVERED VEHICLE</td>\n",
       "      <td>Wednesday</td>\n",
       "      <td>CENTRAL</td>\n",
       "      <td>NONE</td>\n",
       "      <td>0 Block of SANSOME ST</td>\n",
       "      <td>-122.400720</td>\n",
       "      <td>37.790712</td>\n",
       "      <td>5</td>\n",
       "      <td>19</td>\n",
       "      <td>2015</td>\n",
       "      <td>2</td>\n",
       "    </tr>\n",
       "    <tr>\n",
       "      <th>60</th>\n",
       "      <td>2015-05-13 19:28:00</td>\n",
       "      <td>VEHICLE THEFT</td>\n",
       "      <td>STOLEN AUTOMOBILE</td>\n",
       "      <td>Wednesday</td>\n",
       "      <td>CENTRAL</td>\n",
       "      <td>NONE</td>\n",
       "      <td>0 Block of SANSOME ST</td>\n",
       "      <td>-122.400720</td>\n",
       "      <td>37.790712</td>\n",
       "      <td>5</td>\n",
       "      <td>19</td>\n",
       "      <td>2015</td>\n",
       "      <td>2</td>\n",
       "    </tr>\n",
       "  </tbody>\n",
       "</table>\n",
       "</div>"
      ],
      "text/plain": [
       "                  Dates       Category                      Descript  \\\n",
       "6   2015-05-13 23:30:00  VEHICLE THEFT             STOLEN AUTOMOBILE   \n",
       "7   2015-05-13 23:30:00  VEHICLE THEFT             STOLEN AUTOMOBILE   \n",
       "46  2015-05-13 20:00:00  VEHICLE THEFT             STOLEN MOTORCYCLE   \n",
       "59  2015-05-13 19:28:00  VEHICLE THEFT  STOLEN AND RECOVERED VEHICLE   \n",
       "60  2015-05-13 19:28:00  VEHICLE THEFT             STOLEN AUTOMOBILE   \n",
       "\n",
       "    DayOfWeek PdDistrict Resolution                   Address           X  \\\n",
       "6   Wednesday  INGLESIDE       NONE       AVALON AV / PERU AV -122.423327   \n",
       "7   Wednesday    BAYVIEW       NONE  KIRKWOOD AV / DONAHUE ST -122.371274   \n",
       "46  Wednesday  INGLESIDE       NONE    0 Block of CRESCENT AV -122.423702   \n",
       "59  Wednesday    CENTRAL       NONE     0 Block of SANSOME ST -122.400720   \n",
       "60  Wednesday    CENTRAL       NONE     0 Block of SANSOME ST -122.400720   \n",
       "\n",
       "            Y  month  hour  year  Day_Num  \n",
       "6   37.725138      5    23  2015        2  \n",
       "7   37.727564      5    23  2015        2  \n",
       "46  37.735233      5    20  2015        2  \n",
       "59  37.790712      5    19  2015        2  \n",
       "60  37.790712      5    19  2015        2  "
      ]
     },
     "execution_count": 67,
     "metadata": {},
     "output_type": "execute_result"
    }
   ],
   "source": [
    "train_vehicle = train[train['Category']==\"VEHICLE THEFT\"]\n",
    "train_vehicle.head()"
   ]
  },
  {
   "cell_type": "code",
   "execution_count": 68,
   "metadata": {
    "collapsed": false
   },
   "outputs": [
    {
     "data": {
      "image/png": "[encoded data removed]",
      "text/plain": [
       "<matplotlib.figure.Figure at 0x110122828>"
      ]
     },
     "metadata": {},
     "output_type": "display_data"
    }
   ],
   "source": [
    "plt.figure(figsize=(12,8))\n",
    "ax=sns.countplot(x='DayOfWeek',data=train_vehicle)"
   ]
  },
  {
   "cell_type": "code",
   "execution_count": 69,
   "metadata": {
    "collapsed": false
   },
   "outputs": [
    {
     "data": {
      "image/png": "[encoded data removed]",
      "text/plain": [
       "<matplotlib.figure.Figure at 0x10cb83f98>"
      ]
     },
     "metadata": {},
     "output_type": "display_data"
    }
   ],
   "source": [
    "plt.figure(figsize=(12,8))\n",
    "ax=sns.countplot(x='hour',data=train_vehicle)"
   ]
  },
  {
   "cell_type": "code",
   "execution_count": 70,
   "metadata": {
    "collapsed": false
   },
   "outputs": [
    {
     "data": {
      "image/png": "[encoded data removed]",
      "text/plain": [
       "<matplotlib.figure.Figure at 0x10da44da0>"
      ]
     },
     "metadata": {},
     "output_type": "display_data"
    }
   ],
   "source": [
    "plt.figure(figsize=(12,8))\n",
    "ax=sns.countplot(x='hour',data=train_vehicle[train_vehicle['DayOfWeek']=='Friday'])"
   ]
  },
  {
   "cell_type": "markdown",
   "metadata": {},
   "source": [
    "The vehicle theft is recorded maximum on Friday at 6pm. "
   ]
  },
  {
   "cell_type": "markdown",
   "metadata": {
    "collapsed": true
   },
   "source": [
    "# Inferential Statistics"
   ]
  },
  {
   "cell_type": "code",
   "execution_count": 73,
   "metadata": {
    "collapsed": true
   },
   "outputs": [],
   "source": [
    "from scipy import stats"
   ]
  },
  {
   "cell_type": "code",
   "execution_count": 74,
   "metadata": {
    "collapsed": true
   },
   "outputs": [],
   "source": [
    "from scipy.stats import norm"
   ]
  },
  {
   "cell_type": "code",
   "execution_count": 75,
   "metadata": {
    "collapsed": false
   },
   "outputs": [
    {
     "data": {
      "text/plain": [
       "<matplotlib.axes._subplots.AxesSubplot at 0x10d127048>"
      ]
     },
     "execution_count": 75,
     "metadata": {},
     "output_type": "execute_result"
    },
    {
     "data": {
      "image/png": "[encoded data removed]",
      "text/plain": [
       "<matplotlib.figure.Figure at 0x10db3a9e8>"
      ]
     },
     "metadata": {},
     "output_type": "display_data"
    }
   ],
   "source": [
    "plt.figure(figsize=(12,12))\n",
    "corr_train = train.corr()\n",
    "sns.heatmap(corr_train, \n",
    "            xticklabels=corr_train.columns.values,\n",
    "            yticklabels=corr_train.columns.values, annot= True)"
   ]
  },
  {
   "cell_type": "code",
   "execution_count": 76,
   "metadata": {
    "collapsed": false
   },
   "outputs": [
    {
     "data": {
      "text/plain": [
       "NormaltestResult(statistic=72372.902394654346, pvalue=0.0)"
      ]
     },
     "execution_count": 76,
     "metadata": {},
     "output_type": "execute_result"
    }
   ],
   "source": [
    "stats.normaltest(train.hour, axis=0)"
   ]
  },
  {
   "cell_type": "code",
   "execution_count": 78,
   "metadata": {
    "collapsed": false
   },
   "outputs": [
    {
     "data": {
      "text/plain": [
       "NormaltestResult(statistic=985880.58049099881, pvalue=0.0)"
      ]
     },
     "execution_count": 78,
     "metadata": {},
     "output_type": "execute_result"
    }
   ],
   "source": [
    "stats.normaltest(train.Day_Num, axis=0)"
   ]
  },
  {
   "cell_type": "code",
   "execution_count": 79,
   "metadata": {
    "collapsed": false
   },
   "outputs": [
    {
     "data": {
      "text/plain": [
       "NormaltestResult(statistic=972536.32854266977, pvalue=0.0)"
      ]
     },
     "execution_count": 79,
     "metadata": {},
     "output_type": "execute_result"
    }
   ],
   "source": [
    "stats.normaltest(train.month, axis=0)"
   ]
  },
  {
   "cell_type": "code",
   "execution_count": 80,
   "metadata": {
    "collapsed": false
   },
   "outputs": [
    {
     "data": {
      "text/plain": [
       "NormaltestResult(statistic=1057606.7165465287, pvalue=0.0)"
      ]
     },
     "execution_count": 80,
     "metadata": {},
     "output_type": "execute_result"
    }
   ],
   "source": [
    "stats.normaltest(train.year, axis=0)"
   ]
  },
  {
   "cell_type": "code",
   "execution_count": 81,
   "metadata": {
    "collapsed": false
   },
   "outputs": [
    {
     "data": {
      "text/plain": [
       "NormaltestResult(statistic=1898043.7311081742, pvalue=0.0)"
      ]
     },
     "execution_count": 81,
     "metadata": {},
     "output_type": "execute_result"
    }
   ],
   "source": [
    "stats.normaltest(train.X, axis=0)"
   ]
  },
  {
   "cell_type": "code",
   "execution_count": 82,
   "metadata": {
    "collapsed": false
   },
   "outputs": [
    {
     "data": {
      "text/plain": [
       "NormaltestResult(statistic=3626583.8694200409, pvalue=0.0)"
      ]
     },
     "execution_count": 82,
     "metadata": {},
     "output_type": "execute_result"
    }
   ],
   "source": [
    "stats.normaltest(train.Y, axis=0)"
   ]
  },
  {
   "cell_type": "code",
   "execution_count": 83,
   "metadata": {
    "collapsed": false
   },
   "outputs": [
    {
     "name": "stdout",
     "output_type": "stream",
     "text": [
      "AndersonResult(statistic=12253.44913654495, critical_values=array([ 0.576,  0.656,  0.787,  0.918,  1.092]), significance_level=array([ 15. ,  10. ,   5. ,   2.5,   1. ]))\n"
     ]
    }
   ],
   "source": [
    "anderson_results_hour = stats.anderson(train.hour)\n",
    "print(anderson_results_hour)"
   ]
  },
  {
   "cell_type": "code",
   "execution_count": 84,
   "metadata": {
    "collapsed": false
   },
   "outputs": [
    {
     "name": "stdout",
     "output_type": "stream",
     "text": [
      "AndersonResult(statistic=13806.071284624049, critical_values=array([ 0.576,  0.656,  0.787,  0.918,  1.092]), significance_level=array([ 15. ,  10. ,   5. ,   2.5,   1. ]))\n"
     ]
    }
   ],
   "source": [
    "anderson_results_year = stats.anderson(train.year)\n",
    "print(anderson_results_year)"
   ]
  },
  {
   "cell_type": "code",
   "execution_count": 85,
   "metadata": {
    "collapsed": false
   },
   "outputs": [
    {
     "name": "stdout",
     "output_type": "stream",
     "text": [
      "AndersonResult(statistic=13806.374536399613, critical_values=array([ 0.576,  0.656,  0.787,  0.918,  1.092]), significance_level=array([ 15. ,  10. ,   5. ,   2.5,   1. ]))\n"
     ]
    }
   ],
   "source": [
    "anderson_results_month = stats.anderson(train.month)\n",
    "print(anderson_results_month)"
   ]
  },
  {
   "cell_type": "code",
   "execution_count": 87,
   "metadata": {
    "collapsed": false
   },
   "outputs": [
    {
     "name": "stdout",
     "output_type": "stream",
     "text": [
      "AndersonResult(statistic=19935.871091063716, critical_values=array([ 0.576,  0.656,  0.787,  0.918,  1.092]), significance_level=array([ 15. ,  10. ,   5. ,   2.5,   1. ]))\n"
     ]
    }
   ],
   "source": [
    "anderson_results_Day_Num = stats.anderson(train.Day_Num)\n",
    "print(anderson_results_Day_Num)"
   ]
  },
  {
   "cell_type": "code",
   "execution_count": 88,
   "metadata": {
    "collapsed": false
   },
   "outputs": [
    {
     "name": "stdout",
     "output_type": "stream",
     "text": [
      "AndersonResult(statistic=inf, critical_values=array([ 0.576,  0.656,  0.787,  0.918,  1.092]), significance_level=array([ 15. ,  10. ,   5. ,   2.5,   1. ]))\n"
     ]
    },
    {
     "name": "stderr",
     "output_type": "stream",
     "text": [
      "/anaconda/lib/python3.6/site-packages/scipy/stats/morestats.py:1461: RuntimeWarning: divide by zero encountered in log\n",
      "  A2 = -N - np.sum((2*i - 1.0) / N * (log(z) + log(1 - z[::-1])), axis=0)\n"
     ]
    }
   ],
   "source": [
    "anderson_results_X = stats.anderson(train.X)\n",
    "print(anderson_results_X)"
   ]
  },
  {
   "cell_type": "code",
   "execution_count": 89,
   "metadata": {
    "collapsed": false
   },
   "outputs": [
    {
     "name": "stdout",
     "output_type": "stream",
     "text": [
      "AndersonResult(statistic=inf, critical_values=array([ 0.576,  0.656,  0.787,  0.918,  1.092]), significance_level=array([ 15. ,  10. ,   5. ,   2.5,   1. ]))\n"
     ]
    },
    {
     "name": "stderr",
     "output_type": "stream",
     "text": [
      "/anaconda/lib/python3.6/site-packages/scipy/stats/morestats.py:1461: RuntimeWarning: divide by zero encountered in log\n",
      "  A2 = -N - np.sum((2*i - 1.0) / N * (log(z) + log(1 - z[::-1])), axis=0)\n"
     ]
    }
   ],
   "source": [
    "anderson_results_Y = stats.anderson(train.Y)\n",
    "print(anderson_results_Y)"
   ]
  }
 ],
 "metadata": {
  "kernelspec": {
   "display_name": "Python 3",
   "language": "python",
   "name": "python3"
  },
  "language_info": {
   "codemirror_mode": {
    "name": "ipython",
    "version": 3
   },
   "file_extension": ".py",
   "mimetype": "text/x-python",
   "name": "python",
   "nbconvert_exporter": "python",
   "pygments_lexer": "ipython3",
   "version": "3.6.1"
  }
 },
 "nbformat": 4,
 "nbformat_minor": 2
}
